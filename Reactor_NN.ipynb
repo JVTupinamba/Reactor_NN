{
  "nbformat": 4,
  "nbformat_minor": 0,
  "metadata": {
    "colab": {
      "name": "Reactor_NN.ipynb",
      "provenance": [],
      "collapsed_sections": [],
      "mount_file_id": "1MMh7Fior6tu5CvF24zWssGkKKs-gTm2A",
      "authorship_tag": "ABX9TyNFxhNUS7GNEAgqP1fkB6L8"
    },
    "kernelspec": {
      "name": "python3",
      "display_name": "Python 3"
    },
    "language_info": {
      "name": "python"
    }
  },
  "cells": [
    {
      "cell_type": "code",
      "metadata": {
        "id": "EgG-cghIwRSw"
      },
      "source": [
        "!pip install keras-tuner --upgrade"
      ],
      "execution_count": null,
      "outputs": []
    },
    {
      "cell_type": "code",
      "metadata": {
        "id": "srKq8Ctsdgj1"
      },
      "source": [
        "import tensorflow as tf\n",
        "import numpy as np\n",
        "from tensorflow import keras\n",
        "from tensorflow.keras import regularizers\n",
        "import pandas as pd\n",
        "import plotly.express as px\n",
        "import matplotlib.pyplot as plt\n",
        "import plotly.graph_objects as go\n",
        "import os\n",
        "import zipfile\n",
        "import matplotlib.image as mpimg\n",
        "import keras_tuner as kt\n",
        "from sklearn.decomposition import PCA\n",
        "from sklearn.model_selection import train_test_split\n",
        "from sklearn.metrics import confusion_matrix\n",
        "from sklearn.preprocessing import MinMaxScaler\n",
        "import itertools\n",
        "\n"
      ],
      "execution_count": 38,
      "outputs": []
    },
    {
      "cell_type": "code",
      "metadata": {
        "colab": {
          "base_uri": "https://localhost:8080/"
        },
        "id": "J3-_gS0_dprZ",
        "outputId": "62ccc267-1053-4825-a47d-6ea8a716abb6"
      },
      "source": [
        "!nvidia-smi --query-gpu=gpu_name,driver_version,memory.total  --format=csv"
      ],
      "execution_count": 3,
      "outputs": [
        {
          "output_type": "stream",
          "text": [
            "NVIDIA-SMI has failed because it couldn't communicate with the NVIDIA driver. Make sure that the latest NVIDIA driver is installed and running.\n",
            "\n"
          ],
          "name": "stdout"
        }
      ]
    },
    {
      "cell_type": "code",
      "metadata": {
        "id": "J2mQjGyrJDzX"
      },
      "source": [
        "dados_crus = pd.read_csv('/content/drive/MyDrive/PF_Joao_Tupinamba/Teste_GPU/OutPut5Corr.csv',sep = ';', header=0)\n",
        "dados_crus = dados_crus.iloc[:, [1,2,3,4,5,7,8,10,12,19,20,21,-1,-2]]"
      ],
      "execution_count": 4,
      "outputs": []
    },
    {
      "cell_type": "markdown",
      "metadata": {
        "id": "09ifvotP2yBB"
      },
      "source": [
        "## Normal Dataset"
      ]
    },
    {
      "cell_type": "code",
      "metadata": {
        "id": "pLddfa3oZAGE"
      },
      "source": [
        "V1 = np.array(dados_crus.pop('Semenov'))\n",
        "V2 = np.array(dados_crus.pop('T_Limite'))\n",
        "\n",
        "Labels = []\n",
        "for i in range(len(V1)):\n",
        "  if V1[i] > 0 or V2[i]> 0:\n",
        "    Labels.append(1)\n",
        "  else:\n",
        "    Labels.append(0)\n",
        "Labels = np.array(Labels)\n",
        "\n",
        "dados_crus['Labels'] = Labels\n",
        "df_runaway = dados_crus.query('Labels > 0')\n"
      ],
      "execution_count": 5,
      "outputs": []
    },
    {
      "cell_type": "code",
      "metadata": {
        "id": "BPFw1KOvgMRF"
      },
      "source": [
        "test_dataset_runaway = df_runaway.sample(n=round(dados_crus.shape[0]*0.01*0.5), random_state=1) #metade do teste feito de operações que geraram runaway\n",
        "\n",
        "NormalOp = dados_crus.drop(df_runaway.index) #ou .query\n",
        "\n",
        "test_dataset_NormalOp = NormalOp.sample(n=round(dados_crus.shape[0]*0.01*0.5), random_state=1) #outra metade com instâncias comuns de operação\n",
        "\n",
        "Test_dataset = pd.concat([test_dataset_runaway,test_dataset_NormalOp])\n",
        "\n",
        "Train_dataset = dados_crus.drop(Test_dataset.index)\n",
        "\n",
        "\n",
        "Test_dataset_Labels = Test_dataset.pop('Labels')\n",
        "\n",
        "Train_dataset_Labels = Train_dataset.pop('Labels')\n"
      ],
      "execution_count": 6,
      "outputs": []
    },
    {
      "cell_type": "code",
      "metadata": {
        "colab": {
          "base_uri": "https://localhost:8080/",
          "height": 416
        },
        "id": "Iom4gR-fYuV_",
        "outputId": "9f1376c4-b207-4330-8fd1-501861d11cbb"
      },
      "source": [
        "dados_crus"
      ],
      "execution_count": 7,
      "outputs": [
        {
          "output_type": "execute_result",
          "data": {
            "text/html": [
              "<div>\n",
              "<style scoped>\n",
              "    .dataframe tbody tr th:only-of-type {\n",
              "        vertical-align: middle;\n",
              "    }\n",
              "\n",
              "    .dataframe tbody tr th {\n",
              "        vertical-align: top;\n",
              "    }\n",
              "\n",
              "    .dataframe thead th {\n",
              "        text-align: right;\n",
              "    }\n",
              "</style>\n",
              "<table border=\"1\" class=\"dataframe\">\n",
              "  <thead>\n",
              "    <tr style=\"text-align: right;\">\n",
              "      <th></th>\n",
              "      <th>Tempo</th>\n",
              "      <th>Conc</th>\n",
              "      <th>T_Reator</th>\n",
              "      <th>T_Jaqueta</th>\n",
              "      <th>Ff</th>\n",
              "      <th>Te</th>\n",
              "      <th>Tej</th>\n",
              "      <th>Ca0</th>\n",
              "      <th>Hrec</th>\n",
              "      <th>Ffj</th>\n",
              "      <th>Qm</th>\n",
              "      <th>Qr</th>\n",
              "      <th>Labels</th>\n",
              "    </tr>\n",
              "  </thead>\n",
              "  <tbody>\n",
              "    <tr>\n",
              "      <th>0</th>\n",
              "      <td>0.000000</td>\n",
              "      <td>2.000000</td>\n",
              "      <td>311.150000</td>\n",
              "      <td>255.000000</td>\n",
              "      <td>56.0</td>\n",
              "      <td>289.15</td>\n",
              "      <td>256.15</td>\n",
              "      <td>2</td>\n",
              "      <td>-89700</td>\n",
              "      <td>2.032484</td>\n",
              "      <td>18.037788</td>\n",
              "      <td>135.694981</td>\n",
              "      <td>0</td>\n",
              "    </tr>\n",
              "    <tr>\n",
              "      <th>1</th>\n",
              "      <td>0.606061</td>\n",
              "      <td>1.978296</td>\n",
              "      <td>310.158835</td>\n",
              "      <td>256.878295</td>\n",
              "      <td>56.0</td>\n",
              "      <td>289.15</td>\n",
              "      <td>256.15</td>\n",
              "      <td>2</td>\n",
              "      <td>-89700</td>\n",
              "      <td>2.032484</td>\n",
              "      <td>16.253297</td>\n",
              "      <td>129.292939</td>\n",
              "      <td>0</td>\n",
              "    </tr>\n",
              "    <tr>\n",
              "      <th>2</th>\n",
              "      <td>1.212121</td>\n",
              "      <td>1.957900</td>\n",
              "      <td>309.208465</td>\n",
              "      <td>258.652581</td>\n",
              "      <td>56.0</td>\n",
              "      <td>289.15</td>\n",
              "      <td>256.15</td>\n",
              "      <td>2</td>\n",
              "      <td>-89700</td>\n",
              "      <td>2.032484</td>\n",
              "      <td>14.701465</td>\n",
              "      <td>123.177082</td>\n",
              "      <td>0</td>\n",
              "    </tr>\n",
              "    <tr>\n",
              "      <th>3</th>\n",
              "      <td>1.818182</td>\n",
              "      <td>1.938686</td>\n",
              "      <td>308.298080</td>\n",
              "      <td>260.328167</td>\n",
              "      <td>56.0</td>\n",
              "      <td>289.15</td>\n",
              "      <td>256.15</td>\n",
              "      <td>2</td>\n",
              "      <td>-89700</td>\n",
              "      <td>2.032484</td>\n",
              "      <td>13.347991</td>\n",
              "      <td>117.338962</td>\n",
              "      <td>0</td>\n",
              "    </tr>\n",
              "    <tr>\n",
              "      <th>4</th>\n",
              "      <td>2.424242</td>\n",
              "      <td>1.920547</td>\n",
              "      <td>307.426707</td>\n",
              "      <td>261.910131</td>\n",
              "      <td>56.0</td>\n",
              "      <td>289.15</td>\n",
              "      <td>256.15</td>\n",
              "      <td>2</td>\n",
              "      <td>-89700</td>\n",
              "      <td>2.032484</td>\n",
              "      <td>12.164007</td>\n",
              "      <td>111.769557</td>\n",
              "      <td>0</td>\n",
              "    </tr>\n",
              "    <tr>\n",
              "      <th>...</th>\n",
              "      <td>...</td>\n",
              "      <td>...</td>\n",
              "      <td>...</td>\n",
              "      <td>...</td>\n",
              "      <td>...</td>\n",
              "      <td>...</td>\n",
              "      <td>...</td>\n",
              "      <td>...</td>\n",
              "      <td>...</td>\n",
              "      <td>...</td>\n",
              "      <td>...</td>\n",
              "      <td>...</td>\n",
              "      <td>...</td>\n",
              "    </tr>\n",
              "    <tr>\n",
              "      <th>4665595</th>\n",
              "      <td>57.575758</td>\n",
              "      <td>0.000003</td>\n",
              "      <td>826.348368</td>\n",
              "      <td>640.584410</td>\n",
              "      <td>56.0</td>\n",
              "      <td>289.15</td>\n",
              "      <td>256.15</td>\n",
              "      <td>2</td>\n",
              "      <td>-89700</td>\n",
              "      <td>2.032484</td>\n",
              "      <td>1968.714435</td>\n",
              "      <td>2306.585250</td>\n",
              "      <td>1</td>\n",
              "    </tr>\n",
              "    <tr>\n",
              "      <th>4665596</th>\n",
              "      <td>58.181818</td>\n",
              "      <td>0.000003</td>\n",
              "      <td>826.373689</td>\n",
              "      <td>640.836846</td>\n",
              "      <td>56.0</td>\n",
              "      <td>289.15</td>\n",
              "      <td>256.15</td>\n",
              "      <td>2</td>\n",
              "      <td>-89700</td>\n",
              "      <td>2.032484</td>\n",
              "      <td>1968.714442</td>\n",
              "      <td>2306.493621</td>\n",
              "      <td>1</td>\n",
              "    </tr>\n",
              "    <tr>\n",
              "      <th>4665597</th>\n",
              "      <td>58.787879</td>\n",
              "      <td>0.000003</td>\n",
              "      <td>826.397789</td>\n",
              "      <td>641.077153</td>\n",
              "      <td>56.0</td>\n",
              "      <td>289.15</td>\n",
              "      <td>256.15</td>\n",
              "      <td>2</td>\n",
              "      <td>-89700</td>\n",
              "      <td>2.032484</td>\n",
              "      <td>1968.714452</td>\n",
              "      <td>2306.406366</td>\n",
              "      <td>1</td>\n",
              "    </tr>\n",
              "    <tr>\n",
              "      <th>4665598</th>\n",
              "      <td>59.393939</td>\n",
              "      <td>0.000003</td>\n",
              "      <td>826.420725</td>\n",
              "      <td>641.305916</td>\n",
              "      <td>56.0</td>\n",
              "      <td>289.15</td>\n",
              "      <td>256.15</td>\n",
              "      <td>2</td>\n",
              "      <td>-89700</td>\n",
              "      <td>2.032484</td>\n",
              "      <td>1968.714456</td>\n",
              "      <td>2306.323278</td>\n",
              "      <td>1</td>\n",
              "    </tr>\n",
              "    <tr>\n",
              "      <th>4665599</th>\n",
              "      <td>60.000000</td>\n",
              "      <td>0.000003</td>\n",
              "      <td>826.442555</td>\n",
              "      <td>641.523688</td>\n",
              "      <td>56.0</td>\n",
              "      <td>289.15</td>\n",
              "      <td>256.15</td>\n",
              "      <td>2</td>\n",
              "      <td>-89700</td>\n",
              "      <td>2.032484</td>\n",
              "      <td>1968.714455</td>\n",
              "      <td>2306.244160</td>\n",
              "      <td>1</td>\n",
              "    </tr>\n",
              "  </tbody>\n",
              "</table>\n",
              "<p>4665600 rows × 13 columns</p>\n",
              "</div>"
            ],
            "text/plain": [
              "             Tempo      Conc    T_Reator  ...           Qm           Qr  Labels\n",
              "0         0.000000  2.000000  311.150000  ...    18.037788   135.694981       0\n",
              "1         0.606061  1.978296  310.158835  ...    16.253297   129.292939       0\n",
              "2         1.212121  1.957900  309.208465  ...    14.701465   123.177082       0\n",
              "3         1.818182  1.938686  308.298080  ...    13.347991   117.338962       0\n",
              "4         2.424242  1.920547  307.426707  ...    12.164007   111.769557       0\n",
              "...            ...       ...         ...  ...          ...          ...     ...\n",
              "4665595  57.575758  0.000003  826.348368  ...  1968.714435  2306.585250       1\n",
              "4665596  58.181818  0.000003  826.373689  ...  1968.714442  2306.493621       1\n",
              "4665597  58.787879  0.000003  826.397789  ...  1968.714452  2306.406366       1\n",
              "4665598  59.393939  0.000003  826.420725  ...  1968.714456  2306.323278       1\n",
              "4665599  60.000000  0.000003  826.442555  ...  1968.714455  2306.244160       1\n",
              "\n",
              "[4665600 rows x 13 columns]"
            ]
          },
          "metadata": {
            "tags": []
          },
          "execution_count": 7
        }
      ]
    },
    {
      "cell_type": "markdown",
      "metadata": {
        "id": "9QzaWMgVzOiz"
      },
      "source": [
        "# Dataset_PCA"
      ]
    },
    {
      "cell_type": "code",
      "metadata": {
        "id": "KygvmeFUzWgl"
      },
      "source": [
        "dados_crus = pd.read_csv('/content/drive/MyDrive/PF_Joao_Tupinamba/Teste_GPU/OutPut5Corr.csv',sep = ';', header=0)\n",
        "dados_crus = dados_crus.iloc[:, [1,2,3,4,5,7,8,10,12,19,20,21,-1,-2]]\n",
        "\n",
        "dados_crus.drop(['Semenov','T_Limite'],axis=1)\n",
        "\n",
        "X_reduced = pd.DataFrame(dados_crus)\n",
        "pca = PCA(n_components=5)\n",
        "X_reduced = pd.DataFrame(pca.fit_transform(X_reduced))\n",
        "\n",
        "X_reduced['Labels'] = Labels\n",
        "\n",
        "df_runaway_PCA = X_reduced.query('Labels > 0')\n",
        "\n",
        "\n",
        "test_dataset_runaway_PCA = df_runaway_PCA.sample(n=round(X_reduced.shape[0]*0.01*0.5), random_state=1) #metade do teste feito de operações que geraram runaway\n",
        "\n",
        "NormalOp_PCA = X_reduced.drop(df_runaway_PCA.index) #ou .query\n",
        "\n",
        "test_dataset_NormalOp_PCA = NormalOp_PCA.sample(n=round(X_reduced.shape[0]*0.01*0.5), random_state=1) #outra metade com instâncias comuns de operação\n",
        "\n",
        "Test_dataset_PCA = pd.concat([test_dataset_runaway_PCA,test_dataset_NormalOp_PCA])\n",
        "\n",
        "Train_dataset_PCA = X_reduced.drop(Test_dataset_PCA.index)\n",
        "\n",
        "Test_dataset_PCA_Labels = Test_dataset_PCA.pop('Labels')\n",
        "\n",
        "Train_dataset_PCA_Labels = Train_dataset_PCA.pop('Labels')\n"
      ],
      "execution_count": 8,
      "outputs": []
    },
    {
      "cell_type": "code",
      "metadata": {
        "colab": {
          "base_uri": "https://localhost:8080/",
          "height": 416
        },
        "id": "MFOB0xt-Rr3f",
        "outputId": "89a5641d-f2a0-4803-c295-06a9e3b76ea0"
      },
      "source": [
        "dados_crus"
      ],
      "execution_count": 9,
      "outputs": [
        {
          "output_type": "execute_result",
          "data": {
            "text/html": [
              "<div>\n",
              "<style scoped>\n",
              "    .dataframe tbody tr th:only-of-type {\n",
              "        vertical-align: middle;\n",
              "    }\n",
              "\n",
              "    .dataframe tbody tr th {\n",
              "        vertical-align: top;\n",
              "    }\n",
              "\n",
              "    .dataframe thead th {\n",
              "        text-align: right;\n",
              "    }\n",
              "</style>\n",
              "<table border=\"1\" class=\"dataframe\">\n",
              "  <thead>\n",
              "    <tr style=\"text-align: right;\">\n",
              "      <th></th>\n",
              "      <th>Tempo</th>\n",
              "      <th>Conc</th>\n",
              "      <th>T_Reator</th>\n",
              "      <th>T_Jaqueta</th>\n",
              "      <th>Ff</th>\n",
              "      <th>Te</th>\n",
              "      <th>Tej</th>\n",
              "      <th>Ca0</th>\n",
              "      <th>Hrec</th>\n",
              "      <th>Ffj</th>\n",
              "      <th>Qm</th>\n",
              "      <th>Qr</th>\n",
              "      <th>T_Limite</th>\n",
              "      <th>Semenov</th>\n",
              "    </tr>\n",
              "  </thead>\n",
              "  <tbody>\n",
              "    <tr>\n",
              "      <th>0</th>\n",
              "      <td>0.000000</td>\n",
              "      <td>2.000000</td>\n",
              "      <td>311.150000</td>\n",
              "      <td>255.000000</td>\n",
              "      <td>56.0</td>\n",
              "      <td>289.15</td>\n",
              "      <td>256.15</td>\n",
              "      <td>2</td>\n",
              "      <td>-89700</td>\n",
              "      <td>2.032484</td>\n",
              "      <td>18.037788</td>\n",
              "      <td>135.694981</td>\n",
              "      <td>0</td>\n",
              "      <td>0</td>\n",
              "    </tr>\n",
              "    <tr>\n",
              "      <th>1</th>\n",
              "      <td>0.606061</td>\n",
              "      <td>1.978296</td>\n",
              "      <td>310.158835</td>\n",
              "      <td>256.878295</td>\n",
              "      <td>56.0</td>\n",
              "      <td>289.15</td>\n",
              "      <td>256.15</td>\n",
              "      <td>2</td>\n",
              "      <td>-89700</td>\n",
              "      <td>2.032484</td>\n",
              "      <td>16.253297</td>\n",
              "      <td>129.292939</td>\n",
              "      <td>0</td>\n",
              "      <td>0</td>\n",
              "    </tr>\n",
              "    <tr>\n",
              "      <th>2</th>\n",
              "      <td>1.212121</td>\n",
              "      <td>1.957900</td>\n",
              "      <td>309.208465</td>\n",
              "      <td>258.652581</td>\n",
              "      <td>56.0</td>\n",
              "      <td>289.15</td>\n",
              "      <td>256.15</td>\n",
              "      <td>2</td>\n",
              "      <td>-89700</td>\n",
              "      <td>2.032484</td>\n",
              "      <td>14.701465</td>\n",
              "      <td>123.177082</td>\n",
              "      <td>0</td>\n",
              "      <td>0</td>\n",
              "    </tr>\n",
              "    <tr>\n",
              "      <th>3</th>\n",
              "      <td>1.818182</td>\n",
              "      <td>1.938686</td>\n",
              "      <td>308.298080</td>\n",
              "      <td>260.328167</td>\n",
              "      <td>56.0</td>\n",
              "      <td>289.15</td>\n",
              "      <td>256.15</td>\n",
              "      <td>2</td>\n",
              "      <td>-89700</td>\n",
              "      <td>2.032484</td>\n",
              "      <td>13.347991</td>\n",
              "      <td>117.338962</td>\n",
              "      <td>0</td>\n",
              "      <td>0</td>\n",
              "    </tr>\n",
              "    <tr>\n",
              "      <th>4</th>\n",
              "      <td>2.424242</td>\n",
              "      <td>1.920547</td>\n",
              "      <td>307.426707</td>\n",
              "      <td>261.910131</td>\n",
              "      <td>56.0</td>\n",
              "      <td>289.15</td>\n",
              "      <td>256.15</td>\n",
              "      <td>2</td>\n",
              "      <td>-89700</td>\n",
              "      <td>2.032484</td>\n",
              "      <td>12.164007</td>\n",
              "      <td>111.769557</td>\n",
              "      <td>0</td>\n",
              "      <td>0</td>\n",
              "    </tr>\n",
              "    <tr>\n",
              "      <th>...</th>\n",
              "      <td>...</td>\n",
              "      <td>...</td>\n",
              "      <td>...</td>\n",
              "      <td>...</td>\n",
              "      <td>...</td>\n",
              "      <td>...</td>\n",
              "      <td>...</td>\n",
              "      <td>...</td>\n",
              "      <td>...</td>\n",
              "      <td>...</td>\n",
              "      <td>...</td>\n",
              "      <td>...</td>\n",
              "      <td>...</td>\n",
              "      <td>...</td>\n",
              "    </tr>\n",
              "    <tr>\n",
              "      <th>4665595</th>\n",
              "      <td>57.575758</td>\n",
              "      <td>0.000003</td>\n",
              "      <td>826.348368</td>\n",
              "      <td>640.584410</td>\n",
              "      <td>56.0</td>\n",
              "      <td>289.15</td>\n",
              "      <td>256.15</td>\n",
              "      <td>2</td>\n",
              "      <td>-89700</td>\n",
              "      <td>2.032484</td>\n",
              "      <td>1968.714435</td>\n",
              "      <td>2306.585250</td>\n",
              "      <td>1</td>\n",
              "      <td>0</td>\n",
              "    </tr>\n",
              "    <tr>\n",
              "      <th>4665596</th>\n",
              "      <td>58.181818</td>\n",
              "      <td>0.000003</td>\n",
              "      <td>826.373689</td>\n",
              "      <td>640.836846</td>\n",
              "      <td>56.0</td>\n",
              "      <td>289.15</td>\n",
              "      <td>256.15</td>\n",
              "      <td>2</td>\n",
              "      <td>-89700</td>\n",
              "      <td>2.032484</td>\n",
              "      <td>1968.714442</td>\n",
              "      <td>2306.493621</td>\n",
              "      <td>1</td>\n",
              "      <td>0</td>\n",
              "    </tr>\n",
              "    <tr>\n",
              "      <th>4665597</th>\n",
              "      <td>58.787879</td>\n",
              "      <td>0.000003</td>\n",
              "      <td>826.397789</td>\n",
              "      <td>641.077153</td>\n",
              "      <td>56.0</td>\n",
              "      <td>289.15</td>\n",
              "      <td>256.15</td>\n",
              "      <td>2</td>\n",
              "      <td>-89700</td>\n",
              "      <td>2.032484</td>\n",
              "      <td>1968.714452</td>\n",
              "      <td>2306.406366</td>\n",
              "      <td>1</td>\n",
              "      <td>0</td>\n",
              "    </tr>\n",
              "    <tr>\n",
              "      <th>4665598</th>\n",
              "      <td>59.393939</td>\n",
              "      <td>0.000003</td>\n",
              "      <td>826.420725</td>\n",
              "      <td>641.305916</td>\n",
              "      <td>56.0</td>\n",
              "      <td>289.15</td>\n",
              "      <td>256.15</td>\n",
              "      <td>2</td>\n",
              "      <td>-89700</td>\n",
              "      <td>2.032484</td>\n",
              "      <td>1968.714456</td>\n",
              "      <td>2306.323278</td>\n",
              "      <td>1</td>\n",
              "      <td>0</td>\n",
              "    </tr>\n",
              "    <tr>\n",
              "      <th>4665599</th>\n",
              "      <td>60.000000</td>\n",
              "      <td>0.000003</td>\n",
              "      <td>826.442555</td>\n",
              "      <td>641.523688</td>\n",
              "      <td>56.0</td>\n",
              "      <td>289.15</td>\n",
              "      <td>256.15</td>\n",
              "      <td>2</td>\n",
              "      <td>-89700</td>\n",
              "      <td>2.032484</td>\n",
              "      <td>1968.714455</td>\n",
              "      <td>2306.244160</td>\n",
              "      <td>1</td>\n",
              "      <td>0</td>\n",
              "    </tr>\n",
              "  </tbody>\n",
              "</table>\n",
              "<p>4665600 rows × 14 columns</p>\n",
              "</div>"
            ],
            "text/plain": [
              "             Tempo      Conc    T_Reator  ...           Qr  T_Limite  Semenov\n",
              "0         0.000000  2.000000  311.150000  ...   135.694981         0        0\n",
              "1         0.606061  1.978296  310.158835  ...   129.292939         0        0\n",
              "2         1.212121  1.957900  309.208465  ...   123.177082         0        0\n",
              "3         1.818182  1.938686  308.298080  ...   117.338962         0        0\n",
              "4         2.424242  1.920547  307.426707  ...   111.769557         0        0\n",
              "...            ...       ...         ...  ...          ...       ...      ...\n",
              "4665595  57.575758  0.000003  826.348368  ...  2306.585250         1        0\n",
              "4665596  58.181818  0.000003  826.373689  ...  2306.493621         1        0\n",
              "4665597  58.787879  0.000003  826.397789  ...  2306.406366         1        0\n",
              "4665598  59.393939  0.000003  826.420725  ...  2306.323278         1        0\n",
              "4665599  60.000000  0.000003  826.442555  ...  2306.244160         1        0\n",
              "\n",
              "[4665600 rows x 14 columns]"
            ]
          },
          "metadata": {
            "tags": []
          },
          "execution_count": 9
        }
      ]
    },
    {
      "cell_type": "markdown",
      "metadata": {
        "id": "yeyc-sor2sR6"
      },
      "source": [
        "# Cont"
      ]
    },
    {
      "cell_type": "code",
      "metadata": {
        "colab": {
          "base_uri": "https://localhost:8080/"
        },
        "id": "ISlsiTMhgP7r",
        "outputId": "973fa14d-92ff-49cf-d06c-667d528e1240"
      },
      "source": [
        "test_dataset_runaway.shape"
      ],
      "execution_count": null,
      "outputs": [
        {
          "output_type": "execute_result",
          "data": {
            "text/plain": [
              "(46656, 23)"
            ]
          },
          "metadata": {
            "tags": []
          },
          "execution_count": 13
        }
      ]
    },
    {
      "cell_type": "code",
      "metadata": {
        "colab": {
          "base_uri": "https://localhost:8080/"
        },
        "id": "BLQpO2pcmWZA",
        "outputId": "675404ce-d9cb-40b6-872a-7540019b2b9d"
      },
      "source": [
        "test_dataset_NormalOp.shape"
      ],
      "execution_count": null,
      "outputs": [
        {
          "output_type": "execute_result",
          "data": {
            "text/plain": [
              "(46656, 23)"
            ]
          },
          "metadata": {
            "tags": []
          },
          "execution_count": 14
        }
      ]
    },
    {
      "cell_type": "code",
      "metadata": {
        "colab": {
          "base_uri": "https://localhost:8080/"
        },
        "id": "9sZ-v1VLmWLP",
        "outputId": "8bbd3e2b-e4c8-45a5-960f-8835abf082e0"
      },
      "source": [
        "Test_dataset.shape"
      ],
      "execution_count": null,
      "outputs": [
        {
          "output_type": "execute_result",
          "data": {
            "text/plain": [
              "(93312, 21)"
            ]
          },
          "metadata": {
            "tags": []
          },
          "execution_count": 15
        }
      ]
    },
    {
      "cell_type": "code",
      "metadata": {
        "colab": {
          "base_uri": "https://localhost:8080/"
        },
        "id": "AO4kpxRL82vN",
        "outputId": "20ab82b5-d866-42c4-c5f3-63317eae4ee1"
      },
      "source": [
        "Test_dataset_PCA.shape"
      ],
      "execution_count": null,
      "outputs": [
        {
          "output_type": "execute_result",
          "data": {
            "text/plain": [
              "(93312, 4)"
            ]
          },
          "metadata": {
            "tags": []
          },
          "execution_count": 17
        }
      ]
    },
    {
      "cell_type": "code",
      "metadata": {
        "colab": {
          "base_uri": "https://localhost:8080/"
        },
        "id": "vib1ys8t3tNK",
        "outputId": "be608fee-283c-4c3c-bcd7-46c6adf53353"
      },
      "source": [
        "Test_Labels.shape"
      ],
      "execution_count": null,
      "outputs": [
        {
          "output_type": "execute_result",
          "data": {
            "text/plain": [
              "(93312,)"
            ]
          },
          "metadata": {
            "tags": []
          },
          "execution_count": 16
        }
      ]
    },
    {
      "cell_type": "code",
      "metadata": {
        "colab": {
          "base_uri": "https://localhost:8080/"
        },
        "id": "reNhvmbMuy4V",
        "outputId": "4c28e326-a191-447f-8b6c-209a34c1855a"
      },
      "source": [
        "Train_dataset.shape"
      ],
      "execution_count": null,
      "outputs": [
        {
          "output_type": "execute_result",
          "data": {
            "text/plain": [
              "(4572288, 21)"
            ]
          },
          "metadata": {
            "tags": []
          },
          "execution_count": 17
        }
      ]
    },
    {
      "cell_type": "code",
      "metadata": {
        "colab": {
          "base_uri": "https://localhost:8080/"
        },
        "id": "807jqyfE9Lp2",
        "outputId": "75b87d47-020e-42da-c4e4-74a3ed55129d"
      },
      "source": [
        "Train_dataset_PCA.shape"
      ],
      "execution_count": null,
      "outputs": [
        {
          "output_type": "execute_result",
          "data": {
            "text/plain": [
              "(4572288, 4)"
            ]
          },
          "metadata": {
            "tags": []
          },
          "execution_count": 18
        }
      ]
    },
    {
      "cell_type": "code",
      "metadata": {
        "colab": {
          "base_uri": "https://localhost:8080/"
        },
        "id": "LQJ61znpxG2K",
        "outputId": "fc4f10af-2ef1-4eae-88fd-5e1f257c2b7a"
      },
      "source": [
        "Labels_Train.shape"
      ],
      "execution_count": null,
      "outputs": [
        {
          "output_type": "execute_result",
          "data": {
            "text/plain": [
              "(4572288,)"
            ]
          },
          "metadata": {
            "tags": []
          },
          "execution_count": 18
        }
      ]
    },
    {
      "cell_type": "code",
      "metadata": {
        "colab": {
          "base_uri": "https://localhost:8080/"
        },
        "id": "s1ZYX_YyKoPG",
        "outputId": "f2733491-6edc-4257-9a5b-158ef0a387db"
      },
      "source": [
        "dados_crus.shape"
      ],
      "execution_count": null,
      "outputs": [
        {
          "output_type": "execute_result",
          "data": {
            "text/plain": [
              "(4665600, 21)"
            ]
          },
          "metadata": {
            "tags": []
          },
          "execution_count": 9
        }
      ]
    },
    {
      "cell_type": "code",
      "metadata": {
        "colab": {
          "base_uri": "https://localhost:8080/"
        },
        "id": "rFWzS-zPk1BQ",
        "outputId": "2b82ca8d-895d-418e-efcf-d9173d39623d"
      },
      "source": [
        "Test_dataset.shape[0]+Train_dataset.shape[0]"
      ],
      "execution_count": null,
      "outputs": [
        {
          "output_type": "execute_result",
          "data": {
            "text/plain": [
              "4665600"
            ]
          },
          "metadata": {
            "tags": []
          },
          "execution_count": 10
        }
      ]
    },
    {
      "cell_type": "code",
      "metadata": {
        "colab": {
          "base_uri": "https://localhost:8080/"
        },
        "id": "xONzPoBhrFFe",
        "outputId": "607cb03b-6050-4f81-a634-742c7af50f2c"
      },
      "source": [
        "len(Labels)"
      ],
      "execution_count": null,
      "outputs": [
        {
          "output_type": "execute_result",
          "data": {
            "text/plain": [
              "4665600"
            ]
          },
          "metadata": {
            "tags": []
          },
          "execution_count": 11
        }
      ]
    },
    {
      "cell_type": "markdown",
      "metadata": {
        "id": "4oNsZ4OoBNt_"
      },
      "source": [
        "## Um treino qualquer"
      ]
    },
    {
      "cell_type": "code",
      "metadata": {
        "id": "9Oe9pkx0jx84"
      },
      "source": [
        "model=keras.Sequential()\n",
        "\n",
        "model.add(keras.layers.Dense(64,input_shape=[12],\n",
        "                             bias_regularizer=regularizers.l1(1e-3),\n",
        "                             activation = 'LeakyReLU'))\n",
        "model.add(keras.layers.BatchNormalization())\n",
        "\n",
        "model.add(keras.layers.Dense(32,activation = 'LeakyReLU'))\n",
        "\n",
        "model.add(keras.layers.Dense(16,bias_regularizer=regularizers.l1(1e-3),\n",
        "                             activation = 'LeakyReLU'))\n",
        "model.add(keras.layers.BatchNormalization())\n",
        "\n",
        "model.add(keras.layers.Dense(16,activation = 'LeakyReLU'))\n",
        "\n",
        "model.add(keras.layers.Dense(32,bias_regularizer=regularizers.l1(1e-3),\n",
        "                             activation = 'LeakyReLU'))\n",
        "model.add(keras.layers.BatchNormalization())\n",
        "\n",
        "model.add(keras.layers.Dense(16,activation = 'LeakyReLU'))\n",
        "\n",
        "\n",
        "\n",
        "model.add(keras.layers.Dense(1, activation='sigmoid'))\n",
        "\n",
        "  \n"
      ],
      "execution_count": 10,
      "outputs": []
    },
    {
      "cell_type": "code",
      "metadata": {
        "id": "ZMcSueM5jlbu",
        "colab": {
          "base_uri": "https://localhost:8080/"
        },
        "outputId": "309fa9d2-c2a4-46e7-86a4-de26c50a9333"
      },
      "source": [
        "model.summary()"
      ],
      "execution_count": 11,
      "outputs": [
        {
          "output_type": "stream",
          "text": [
            "Model: \"sequential\"\n",
            "_________________________________________________________________\n",
            "Layer (type)                 Output Shape              Param #   \n",
            "=================================================================\n",
            "dense (Dense)                (None, 64)                832       \n",
            "_________________________________________________________________\n",
            "batch_normalization (BatchNo (None, 64)                256       \n",
            "_________________________________________________________________\n",
            "dense_1 (Dense)              (None, 32)                2080      \n",
            "_________________________________________________________________\n",
            "dense_2 (Dense)              (None, 16)                528       \n",
            "_________________________________________________________________\n",
            "batch_normalization_1 (Batch (None, 16)                64        \n",
            "_________________________________________________________________\n",
            "dense_3 (Dense)              (None, 16)                272       \n",
            "_________________________________________________________________\n",
            "dense_4 (Dense)              (None, 32)                544       \n",
            "_________________________________________________________________\n",
            "batch_normalization_2 (Batch (None, 32)                128       \n",
            "_________________________________________________________________\n",
            "dense_5 (Dense)              (None, 16)                528       \n",
            "_________________________________________________________________\n",
            "dense_6 (Dense)              (None, 1)                 17        \n",
            "=================================================================\n",
            "Total params: 5,249\n",
            "Trainable params: 5,025\n",
            "Non-trainable params: 224\n",
            "_________________________________________________________________\n"
          ],
          "name": "stdout"
        }
      ]
    },
    {
      "cell_type": "code",
      "metadata": {
        "id": "2sdC4PHlFw-s"
      },
      "source": [
        "model.compile(optimizer=keras.optimizers.Adam(learning_rate=1e-6),loss='binary_crossentropy',metrics=['mae','mse','accuracy'])"
      ],
      "execution_count": 12,
      "outputs": []
    },
    {
      "cell_type": "code",
      "metadata": {
        "id": "ydqNCmyoHGhe"
      },
      "source": [
        "history = model.fit(x=Train_dataset,y=Train_dataset_Labels,validation_data = (Test_dataset,Test_dataset_Labels)\n",
        "                    ,validation_steps = len(Test_dataset)/400 ,epochs = 20 ,batch_size=400,verbose=1\n",
        "                    )"
      ],
      "execution_count": null,
      "outputs": []
    },
    {
      "cell_type": "code",
      "metadata": {
        "id": "a5Xn2nT8HyyT"
      },
      "source": [
        "for i in ['loss', 'mae', 'mse', 'accuracy']:\n",
        "  plt.plot(history.history[i])\n",
        "plt.title('model loss')\n",
        "plt.ylabel('loss')\n",
        "plt.xlabel('epoch')\n",
        "plt.legend(['train', 'test'], loc='upper left')\n",
        "plt.show()"
      ],
      "execution_count": null,
      "outputs": []
    },
    {
      "cell_type": "code",
      "metadata": {
        "id": "WmpXXkzkWbJ6",
        "colab": {
          "base_uri": "https://localhost:8080/",
          "height": 295
        },
        "outputId": "3b1c1b23-a6e6-4b07-ed0b-de56caf26b0b"
      },
      "source": [
        "plt.plot(history.history['accuracy'])\n",
        "plt.plot(history.history['val_mse'])\n",
        "plt.title('Root Mean Squared Error')\n",
        "plt.ylabel('mse')\n",
        "plt.xlabel('epoch')\n",
        "plt.legend(['train', 'test'], loc='upper left')\n",
        "plt.show()"
      ],
      "execution_count": null,
      "outputs": [
        {
          "output_type": "display_data",
          "data": {
            "image/png": "[encoded data removed]",
            "text/plain": [
              "<Figure size 432x288 with 1 Axes>"
            ]
          },
          "metadata": {
            "tags": [],
            "needs_background": "light"
          }
        }
      ]
    },
    {
      "cell_type": "markdown",
      "metadata": {
        "id": "dpDVYL__BcfR"
      },
      "source": [
        "## Keras Tuner"
      ]
    },
    {
      "cell_type": "code",
      "metadata": {
        "id": "fjPHY8vRnXq5"
      },
      "source": [
        "def build_model(hp):\n",
        "  model = keras.Sequential()\n",
        "\n",
        "  model.add(keras.layers.Dense(\n",
        "        hp.Choice('unitsPre1', [32, 64,128]),\n",
        "        bias_regularizer=regularizers.l1(1e-4),\n",
        "        activation='LeakyReLU'))\n",
        "  \n",
        "  model.add(keras.layers.Dense(\n",
        "      hp.Choice('unitsPre2', [32, 64,128]),\n",
        "      bias_regularizer=regularizers.l1(1e-4),\n",
        "      activation='LeakyReLU'))\n",
        "  \n",
        "  for i in range(hp.Int('num_layers',4,8)):\n",
        "    if i % 2 == 0:\n",
        "      model.add(keras.layers.Dense(\n",
        "        hp.Choice('units' + str(i), [16, 32, 64]),\n",
        "        bias_regularizer=regularizers.l1(1e-3),\n",
        "        activation='LeakyReLU'))\n",
        "      model.add(keras.layers.BatchNormalization())\n",
        "    else:\n",
        "      model.add(keras.layers.Dense(\n",
        "          hp.Choice('units' + str(i), [16, 32]),\n",
        "          activation='LeakyReLU'))\n",
        "      \n",
        "  \n",
        "  model.add(keras.layers.Dense(1, activation='sigmoid'))\n",
        "\n",
        "  \n",
        "  model.compile(optimizer=keras.optimizers.Adam(hp.Choice('learning_rate',[1e-5,1e-6])),loss='binary_crossentropy',metrics=['mae','mse','accuracy'])\n",
        "  #model.compile(optimizer=tf.keras.optimizers.Adagrad(learning_rate=0.001\n",
        "   #                                                   ,initial_accumulator_value=0.1,epsilon=1e-07,name=\"Adagrad\"),loss='binary_crossentropy',metrics=['mae','mse','accuracy'])\n",
        "  \n",
        "  return model"
      ],
      "execution_count": 15,
      "outputs": []
    },
    {
      "cell_type": "code",
      "metadata": {
        "id": "MIcFWvvPDB8s",
        "colab": {
          "base_uri": "https://localhost:8080/"
        },
        "outputId": "da0a5768-7b02-451b-c8a3-0cf535cb3617"
      },
      "source": [
        "tuner = kt.Hyperband(build_model,\n",
        "                     objective=kt.Objective(\"val_accuracy\", direction=\"max\"),\n",
        "                     max_epochs=10,\n",
        "                     factor=6,\n",
        "                     directory='/content/drive/MyDrive/PF_Joao_Tupinamba/Teste GPU/',\n",
        "                     project_name='Reactor_NN_Tuner_Hyperband+',\n",
        "                     overwrite=False)\n",
        "#tuner.search(Train_dataset_PCA, Train_dataset_PCA_Labels,\n",
        "#             validation_data=(Test_dataset_PCA, Test_dataset_PCA_Labels),\n",
        "#             validation_steps = len(Test_dataset)/400 ,batch_size=400)\n",
        "#tuner.get_best_models()"
      ],
      "execution_count": 17,
      "outputs": [
        {
          "output_type": "stream",
          "text": [
            "Trial 14 Complete [00h 10m 00s]\n",
            "val_accuracy: 0.9164523482322693\n",
            "\n",
            "Best val_accuracy So Far: 0.9258401989936829\n",
            "Total elapsed time: 01h 08m 48s\n",
            "INFO:tensorflow:Oracle triggered exit\n"
          ],
          "name": "stdout"
        }
      ]
    },
    {
      "cell_type": "code",
      "metadata": {
        "colab": {
          "base_uri": "https://localhost:8080/"
        },
        "id": "dxPwsyI1oD8_",
        "outputId": "9ae35919-905c-460b-abd5-47c6297f8f3c"
      },
      "source": [
        "tuner = kt.RandomSearch(\n",
        "    build_model,\n",
        "    objective=kt.Objective(\"val_accuracy\", direction=\"max\"),\n",
        "    executions_per_trial=1,\n",
        "    max_trials=40,\n",
        "    directory ='/content/drive/MyDrive/PF_Joao_Tupinamba/Teste GPU/',\n",
        "    project_name='Reactor_NN_Tuner2',\n",
        "    overwrite = True)\n",
        "\n",
        "#tuner.search(Train_dataset_PCA, Train_Labels, \n",
        "#             epochs=5, validation_data=(Test_dataset_PCA, Test_Labels),\n",
        "#             validation_steps = len(Test_dataset)/400 ,batch_size=400)\n"
      ],
      "execution_count": null,
      "outputs": [
        {
          "output_type": "execute_result",
          "data": {
            "text/plain": [
              "[]"
            ]
          },
          "metadata": {
            "tags": []
          },
          "execution_count": 14
        }
      ]
    },
    {
      "cell_type": "code",
      "metadata": {
        "id": "IxPHt3ezzvAw"
      },
      "source": [
        "tuner.results_summary()"
      ],
      "execution_count": null,
      "outputs": []
    },
    {
      "cell_type": "code",
      "metadata": {
        "id": "HtJajsmBs8n0"
      },
      "source": [
        "best_hps=tuner.get_best_hyperparameters(num_trials=1)[0]\n",
        "model = tuner.hypermodel.build(best_hps)\n",
        "model.build((Train_dataset_PCA.shape[0],5))"
      ],
      "execution_count": 34,
      "outputs": []
    },
    {
      "cell_type": "code",
      "metadata": {
        "colab": {
          "base_uri": "https://localhost:8080/"
        },
        "id": "jUBMtmcahvEN",
        "outputId": "c1ab1bb0-41a0-400a-f993-3e094bfc9a5f"
      },
      "source": [
        "model.summary()"
      ],
      "execution_count": 35,
      "outputs": [
        {
          "output_type": "stream",
          "text": [
            "Model: \"sequential\"\n",
            "_________________________________________________________________\n",
            "Layer (type)                 Output Shape              Param #   \n",
            "=================================================================\n",
            "dense (Dense)                (4618944, 64)             384       \n",
            "_________________________________________________________________\n",
            "dense_1 (Dense)              (4618944, 64)             4160      \n",
            "_________________________________________________________________\n",
            "dense_2 (Dense)              (4618944, 16)             1040      \n",
            "_________________________________________________________________\n",
            "batch_normalization (BatchNo (4618944, 16)             64        \n",
            "_________________________________________________________________\n",
            "dense_3 (Dense)              (4618944, 16)             272       \n",
            "_________________________________________________________________\n",
            "dense_4 (Dense)              (4618944, 64)             1088      \n",
            "_________________________________________________________________\n",
            "batch_normalization_1 (Batch (4618944, 64)             256       \n",
            "_________________________________________________________________\n",
            "dense_5 (Dense)              (4618944, 16)             1040      \n",
            "_________________________________________________________________\n",
            "dense_6 (Dense)              (4618944, 32)             544       \n",
            "_________________________________________________________________\n",
            "batch_normalization_2 (Batch (4618944, 32)             128       \n",
            "_________________________________________________________________\n",
            "dense_7 (Dense)              (4618944, 16)             528       \n",
            "_________________________________________________________________\n",
            "dense_8 (Dense)              (4618944, 1)              17        \n",
            "=================================================================\n",
            "Total params: 9,521\n",
            "Trainable params: 9,297\n",
            "Non-trainable params: 224\n",
            "_________________________________________________________________\n"
          ],
          "name": "stdout"
        }
      ]
    },
    {
      "cell_type": "markdown",
      "metadata": {
        "id": "QzKE7aRACNKS"
      },
      "source": [
        "## Confusion matrix"
      ]
    },
    {
      "cell_type": "code",
      "metadata": {
        "id": "HHePGo8MB7iV"
      },
      "source": [
        "def plot_confusion_matrix(cm, classes,\n",
        "                        normalize=False,\n",
        "                        title='Confusion matrix',\n",
        "                        cmap=plt.cm.Blues):\n",
        "    \"\"\"\n",
        "    This function prints and plots the confusion matrix.\n",
        "    Normalization can be applied by setting `normalize=True`.\n",
        "    \"\"\"\n",
        "    plt.figure(figsize=(16, 12))\n",
        "    plt.imshow(cm, interpolation='nearest', cmap=cmap)\n",
        "    plt.title(title)\n",
        "    plt.colorbar()\n",
        "    tick_marks = np.arange(len(classes))\n",
        "    plt.xticks(tick_marks, classes, rotation=45)\n",
        "    plt.yticks(tick_marks, classes)\n",
        "    if normalize:\n",
        "        cm = cm.astype('float') / cm.sum(axis=1)[:, np.newaxis]\n",
        "        print(\"Normalized confusion matrix\")\n",
        "    else:\n",
        "        print('Confusion matrix, without normalization')\n",
        "\n",
        "    print(cm)\n",
        "\n",
        "    thresh = cm.max() / 2.\n",
        "    for i, j in itertools.product(range(cm.shape[0]), range(cm.shape[1])):\n",
        "        plt.text(j, i, cm[i, j],\n",
        "            horizontalalignment=\"center\",\n",
        "            color=\"white\" if cm[i, j] > thresh else \"black\")\n",
        "\n",
        "    plt.tight_layout()\n",
        "    plt.ylabel('True label')\n",
        "    plt.xlabel('Predicted label')"
      ],
      "execution_count": 62,
      "outputs": []
    },
    {
      "cell_type": "code",
      "metadata": {
        "colab": {
          "base_uri": "https://localhost:8080/",
          "height": 937
        },
        "id": "Mx8ffn63xZEK",
        "outputId": "95e5685b-3b00-4424-ca48-c9040a9e3e9e"
      },
      "source": [
        "predictions = model.predict(\n",
        "      x=Test_dataset_PCA\n",
        "    , batch_size=400\n",
        "    , verbose=0\n",
        ")  \n",
        "\n",
        "\n",
        "cm = confusion_matrix(y_true=Test_dataset_PCA_Labels, y_pred=predictions.round())\n",
        "cm_plot_labels = ['no_Runaway','Runaway']\n",
        "plot_confusion_matrix(cm=cm, classes=cm_plot_labels, title='Confusion Matrix')\n"
      ],
      "execution_count": 66,
      "outputs": [
        {
          "output_type": "stream",
          "text": [
            "Confusion matrix, without normalization\n",
            "[[19393  3935]\n",
            " [ 6488 16840]]\n"
          ],
          "name": "stdout"
        },
        {
          "output_type": "display_data",
          "data": {
            "image/png": "[encoded data removed]",
            "text/plain": [
              "<Figure size 1152x864 with 2 Axes>"
            ]
          },
          "metadata": {
            "tags": [],
            "needs_background": "light"
          }
        }
      ]
    },
    {
      "cell_type": "code",
      "metadata": {
        "id": "uQufbLQHECzr"
      },
      "source": [
        ""
      ],
      "execution_count": null,
      "outputs": []
    }
  ]
}