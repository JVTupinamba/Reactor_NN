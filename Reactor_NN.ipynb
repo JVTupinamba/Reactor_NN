{
  "nbformat": 4,
  "nbformat_minor": 0,
  "metadata": {
    "colab": {
      "name": "Reactor_NN.ipynb",
      "provenance": [],
      "collapsed_sections": [],
      "mount_file_id": "1MMh7Fior6tu5CvF24zWssGkKKs-gTm2A",
      "authorship_tag": "ABX9TyMj6fzfIvE7QP8wvcv3GfD9"
    },
    "kernelspec": {
      "display_name": "Python 3",
      "name": "python3"
    },
    "language_info": {
      "name": "python"
    }
  },
  "cells": [
    {
      "cell_type": "code",
      "metadata": {
        "colab": {
          "base_uri": "https://localhost:8080/"
        },
        "id": "EgG-cghIwRSw",
        "outputId": "c81644c9-cd25-4deb-9e34-96bad091b35b"
      },
      "source": [
        "!pip install keras-tuner --upgrade"
      ],
      "execution_count": 1,
      "outputs": [
        {
          "output_type": "stream",
          "text": [
            "Collecting keras-tuner\n",
            "  Downloading keras_tuner-1.0.3-py3-none-any.whl (96 kB)\n",
            "\u001b[?25l\r\u001b[K     |███▍                            | 10 kB 13.2 MB/s eta 0:00:01\r\u001b[K     |██████▉                         | 20 kB 17.0 MB/s eta 0:00:01\r\u001b[K     |██████████▏                     | 30 kB 21.1 MB/s eta 0:00:01\r\u001b[K     |█████████████▋                  | 40 kB 25.0 MB/s eta 0:00:01\r\u001b[K     |█████████████████               | 51 kB 17.8 MB/s eta 0:00:01\r\u001b[K     |████████████████████▍           | 61 kB 12.9 MB/s eta 0:00:01\r\u001b[K     |███████████████████████▊        | 71 kB 12.5 MB/s eta 0:00:01\r\u001b[K     |███████████████████████████▏    | 81 kB 13.8 MB/s eta 0:00:01\r\u001b[K     |██████████████████████████████▋ | 92 kB 13.8 MB/s eta 0:00:01\r\u001b[K     |████████████████████████████████| 96 kB 3.6 MB/s \n",
            "\u001b[?25hRequirement already satisfied: scipy in /usr/local/lib/python3.7/dist-packages (from keras-tuner) (1.4.1)\n",
            "Requirement already satisfied: requests in /usr/local/lib/python3.7/dist-packages (from keras-tuner) (2.23.0)\n",
            "Requirement already satisfied: numpy in /usr/local/lib/python3.7/dist-packages (from keras-tuner) (1.19.5)\n",
            "Requirement already satisfied: tensorboard in /usr/local/lib/python3.7/dist-packages (from keras-tuner) (2.6.0)\n",
            "Collecting kt-legacy\n",
            "  Downloading kt_legacy-1.0.4-py3-none-any.whl (9.6 kB)\n",
            "Requirement already satisfied: packaging in /usr/local/lib/python3.7/dist-packages (from keras-tuner) (21.0)\n",
            "Requirement already satisfied: ipython in /usr/local/lib/python3.7/dist-packages (from keras-tuner) (5.5.0)\n",
            "Requirement already satisfied: pexpect in /usr/local/lib/python3.7/dist-packages (from ipython->keras-tuner) (4.8.0)\n",
            "Requirement already satisfied: setuptools>=18.5 in /usr/local/lib/python3.7/dist-packages (from ipython->keras-tuner) (57.4.0)\n",
            "Requirement already satisfied: traitlets>=4.2 in /usr/local/lib/python3.7/dist-packages (from ipython->keras-tuner) (5.0.5)\n",
            "Requirement already satisfied: pygments in /usr/local/lib/python3.7/dist-packages (from ipython->keras-tuner) (2.6.1)\n",
            "Requirement already satisfied: pickleshare in /usr/local/lib/python3.7/dist-packages (from ipython->keras-tuner) (0.7.5)\n",
            "Requirement already satisfied: simplegeneric>0.8 in /usr/local/lib/python3.7/dist-packages (from ipython->keras-tuner) (0.8.1)\n",
            "Requirement already satisfied: prompt-toolkit<2.0.0,>=1.0.4 in /usr/local/lib/python3.7/dist-packages (from ipython->keras-tuner) (1.0.18)\n",
            "Requirement already satisfied: decorator in /usr/local/lib/python3.7/dist-packages (from ipython->keras-tuner) (4.4.2)\n",
            "Requirement already satisfied: wcwidth in /usr/local/lib/python3.7/dist-packages (from prompt-toolkit<2.0.0,>=1.0.4->ipython->keras-tuner) (0.2.5)\n",
            "Requirement already satisfied: six>=1.9.0 in /usr/local/lib/python3.7/dist-packages (from prompt-toolkit<2.0.0,>=1.0.4->ipython->keras-tuner) (1.15.0)\n",
            "Requirement already satisfied: ipython-genutils in /usr/local/lib/python3.7/dist-packages (from traitlets>=4.2->ipython->keras-tuner) (0.2.0)\n",
            "Requirement already satisfied: pyparsing>=2.0.2 in /usr/local/lib/python3.7/dist-packages (from packaging->keras-tuner) (2.4.7)\n",
            "Requirement already satisfied: ptyprocess>=0.5 in /usr/local/lib/python3.7/dist-packages (from pexpect->ipython->keras-tuner) (0.7.0)\n",
            "Requirement already satisfied: urllib3!=1.25.0,!=1.25.1,<1.26,>=1.21.1 in /usr/local/lib/python3.7/dist-packages (from requests->keras-tuner) (1.24.3)\n",
            "Requirement already satisfied: certifi>=2017.4.17 in /usr/local/lib/python3.7/dist-packages (from requests->keras-tuner) (2021.5.30)\n",
            "Requirement already satisfied: idna<3,>=2.5 in /usr/local/lib/python3.7/dist-packages (from requests->keras-tuner) (2.10)\n",
            "Requirement already satisfied: chardet<4,>=3.0.2 in /usr/local/lib/python3.7/dist-packages (from requests->keras-tuner) (3.0.4)\n",
            "Requirement already satisfied: google-auth<2,>=1.6.3 in /usr/local/lib/python3.7/dist-packages (from tensorboard->keras-tuner) (1.34.0)\n",
            "Requirement already satisfied: werkzeug>=0.11.15 in /usr/local/lib/python3.7/dist-packages (from tensorboard->keras-tuner) (1.0.1)\n",
            "Requirement already satisfied: absl-py>=0.4 in /usr/local/lib/python3.7/dist-packages (from tensorboard->keras-tuner) (0.12.0)\n",
            "Requirement already satisfied: wheel>=0.26 in /usr/local/lib/python3.7/dist-packages (from tensorboard->keras-tuner) (0.37.0)\n",
            "Requirement already satisfied: google-auth-oauthlib<0.5,>=0.4.1 in /usr/local/lib/python3.7/dist-packages (from tensorboard->keras-tuner) (0.4.5)\n",
            "Requirement already satisfied: markdown>=2.6.8 in /usr/local/lib/python3.7/dist-packages (from tensorboard->keras-tuner) (3.3.4)\n",
            "Requirement already satisfied: tensorboard-data-server<0.7.0,>=0.6.0 in /usr/local/lib/python3.7/dist-packages (from tensorboard->keras-tuner) (0.6.1)\n",
            "Requirement already satisfied: protobuf>=3.6.0 in /usr/local/lib/python3.7/dist-packages (from tensorboard->keras-tuner) (3.17.3)\n",
            "Requirement already satisfied: grpcio>=1.24.3 in /usr/local/lib/python3.7/dist-packages (from tensorboard->keras-tuner) (1.39.0)\n",
            "Requirement already satisfied: tensorboard-plugin-wit>=1.6.0 in /usr/local/lib/python3.7/dist-packages (from tensorboard->keras-tuner) (1.8.0)\n",
            "Requirement already satisfied: cachetools<5.0,>=2.0.0 in /usr/local/lib/python3.7/dist-packages (from google-auth<2,>=1.6.3->tensorboard->keras-tuner) (4.2.2)\n",
            "Requirement already satisfied: rsa<5,>=3.1.4 in /usr/local/lib/python3.7/dist-packages (from google-auth<2,>=1.6.3->tensorboard->keras-tuner) (4.7.2)\n",
            "Requirement already satisfied: pyasn1-modules>=0.2.1 in /usr/local/lib/python3.7/dist-packages (from google-auth<2,>=1.6.3->tensorboard->keras-tuner) (0.2.8)\n",
            "Requirement already satisfied: requests-oauthlib>=0.7.0 in /usr/local/lib/python3.7/dist-packages (from google-auth-oauthlib<0.5,>=0.4.1->tensorboard->keras-tuner) (1.3.0)\n",
            "Requirement already satisfied: importlib-metadata in /usr/local/lib/python3.7/dist-packages (from markdown>=2.6.8->tensorboard->keras-tuner) (4.6.4)\n",
            "Requirement already satisfied: pyasn1<0.5.0,>=0.4.6 in /usr/local/lib/python3.7/dist-packages (from pyasn1-modules>=0.2.1->google-auth<2,>=1.6.3->tensorboard->keras-tuner) (0.4.8)\n",
            "Requirement already satisfied: oauthlib>=3.0.0 in /usr/local/lib/python3.7/dist-packages (from requests-oauthlib>=0.7.0->google-auth-oauthlib<0.5,>=0.4.1->tensorboard->keras-tuner) (3.1.1)\n",
            "Requirement already satisfied: zipp>=0.5 in /usr/local/lib/python3.7/dist-packages (from importlib-metadata->markdown>=2.6.8->tensorboard->keras-tuner) (3.5.0)\n",
            "Requirement already satisfied: typing-extensions>=3.6.4 in /usr/local/lib/python3.7/dist-packages (from importlib-metadata->markdown>=2.6.8->tensorboard->keras-tuner) (3.7.4.3)\n",
            "Installing collected packages: kt-legacy, keras-tuner\n",
            "Successfully installed keras-tuner-1.0.3 kt-legacy-1.0.4\n"
          ],
          "name": "stdout"
        }
      ]
    },
    {
      "cell_type": "code",
      "metadata": {
        "id": "srKq8Ctsdgj1"
      },
      "source": [
        "import tensorflow as tf\n",
        "import numpy as np\n",
        "from tensorflow import keras\n",
        "from tensorflow.keras import regularizers\n",
        "import pandas as pd\n",
        "import plotly.express as px\n",
        "import matplotlib.pyplot as plt\n",
        "import plotly.graph_objects as go\n",
        "import os\n",
        "import zipfile\n",
        "import matplotlib.image as mpimg\n",
        "import keras_tuner as kt\n",
        "from sklearn.decomposition import PCA\n",
        "from sklearn.metrics import confusion_matrix\n",
        "from sklearn.preprocessing import MinMaxScaler\n",
        "import itertools\n",
        "\n"
      ],
      "execution_count": 2,
      "outputs": []
    },
    {
      "cell_type": "code",
      "metadata": {
        "colab": {
          "base_uri": "https://localhost:8080/"
        },
        "id": "J3-_gS0_dprZ",
        "outputId": "a5af3fdc-fa51-42f5-b9bb-5f58f123bdda"
      },
      "source": [
        "!nvidia-smi --query-gpu=gpu_name,driver_version,memory.total  --format=csv"
      ],
      "execution_count": 3,
      "outputs": [
        {
          "output_type": "stream",
          "text": [
            "NVIDIA-SMI has failed because it couldn't communicate with the NVIDIA driver. Make sure that the latest NVIDIA driver is installed and running.\n",
            "\n"
          ],
          "name": "stdout"
        }
      ]
    },
    {
      "cell_type": "code",
      "metadata": {
        "id": "J2mQjGyrJDzX"
      },
      "source": [
        "dados_crus = pd.read_csv('/content/drive/MyDrive/PF_Joao_Tupinamba/Teste_GPU/OutPut5Corr.csv',sep = ';', header=0)\n",
        "dados_crus = dados_crus.iloc[:, [1,2,3,4,5,7,8,10,12,19,20,21,-1,-2]]"
      ],
      "execution_count": 3,
      "outputs": []
    },
    {
      "cell_type": "markdown",
      "metadata": {
        "id": "09ifvotP2yBB"
      },
      "source": [
        "## Normal Dataset (Filtrado)"
      ]
    },
    {
      "cell_type": "code",
      "metadata": {
        "id": "pLddfa3oZAGE"
      },
      "source": [
        "V1 = np.array(dados_crus.pop('Semenov'))\n",
        "V2 = np.array(dados_crus.pop('T_Limite'))\n",
        "\n",
        "Labels = []\n",
        "for i in range(len(V1)):\n",
        "  if V1[i] > 0 or V2[i]> 0:\n",
        "    Labels.append(1)\n",
        "  else:\n",
        "    Labels.append(0)\n",
        "Labels = np.array(Labels)\n",
        "\n",
        "dados_crus['Labels'] = Labels\n",
        "df_runaway = dados_crus.query('Labels > 0')\n"
      ],
      "execution_count": 4,
      "outputs": []
    },
    {
      "cell_type": "code",
      "metadata": {
        "id": "BPFw1KOvgMRF"
      },
      "source": [
        "test_dataset_runaway = df_runaway.sample(n=round(dados_crus.shape[0]*0.01*0.5), random_state=1) #metade do teste feito de operações que geraram runaway\n",
        "\n",
        "NormalOp = dados_crus.drop(df_runaway.index) #ou .query\n",
        "\n",
        "test_dataset_NormalOp = NormalOp.sample(n=round(dados_crus.shape[0]*0.01*0.5), random_state=1) #outra metade com instâncias comuns de operação\n",
        "\n",
        "Test_dataset = pd.concat([test_dataset_runaway,test_dataset_NormalOp])\n",
        "\n",
        "Train_dataset = dados_crus.drop(Test_dataset.index)\n",
        "\n",
        "\n",
        "Test_dataset_Labels = Test_dataset.pop('Labels')\n",
        "\n",
        "Train_dataset_Labels = Train_dataset.pop('Labels')\n"
      ],
      "execution_count": 5,
      "outputs": []
    },
    {
      "cell_type": "code",
      "metadata": {
        "colab": {
          "base_uri": "https://localhost:8080/",
          "height": 416
        },
        "id": "Iom4gR-fYuV_",
        "outputId": "9e631553-2b0c-42dc-9e3e-0b6b2f3859b9"
      },
      "source": [
        "dados_crus"
      ],
      "execution_count": 7,
      "outputs": [
        {
          "output_type": "execute_result",
          "data": {
            "text/html": [
              "<div>\n",
              "<style scoped>\n",
              "    .dataframe tbody tr th:only-of-type {\n",
              "        vertical-align: middle;\n",
              "    }\n",
              "\n",
              "    .dataframe tbody tr th {\n",
              "        vertical-align: top;\n",
              "    }\n",
              "\n",
              "    .dataframe thead th {\n",
              "        text-align: right;\n",
              "    }\n",
              "</style>\n",
              "<table border=\"1\" class=\"dataframe\">\n",
              "  <thead>\n",
              "    <tr style=\"text-align: right;\">\n",
              "      <th></th>\n",
              "      <th>Tempo</th>\n",
              "      <th>Conc</th>\n",
              "      <th>T_Reator</th>\n",
              "      <th>T_Jaqueta</th>\n",
              "      <th>Ff</th>\n",
              "      <th>Te</th>\n",
              "      <th>Tej</th>\n",
              "      <th>Ca0</th>\n",
              "      <th>Hrec</th>\n",
              "      <th>Ffj</th>\n",
              "      <th>Qm</th>\n",
              "      <th>Qr</th>\n",
              "      <th>Labels</th>\n",
              "    </tr>\n",
              "  </thead>\n",
              "  <tbody>\n",
              "    <tr>\n",
              "      <th>0</th>\n",
              "      <td>0.000000</td>\n",
              "      <td>2.000000</td>\n",
              "      <td>311.150000</td>\n",
              "      <td>255.000000</td>\n",
              "      <td>56.0</td>\n",
              "      <td>289.15</td>\n",
              "      <td>256.15</td>\n",
              "      <td>2</td>\n",
              "      <td>-89700</td>\n",
              "      <td>2.032484</td>\n",
              "      <td>18.037788</td>\n",
              "      <td>135.694981</td>\n",
              "      <td>0</td>\n",
              "    </tr>\n",
              "    <tr>\n",
              "      <th>1</th>\n",
              "      <td>0.606061</td>\n",
              "      <td>1.978296</td>\n",
              "      <td>310.158835</td>\n",
              "      <td>256.878295</td>\n",
              "      <td>56.0</td>\n",
              "      <td>289.15</td>\n",
              "      <td>256.15</td>\n",
              "      <td>2</td>\n",
              "      <td>-89700</td>\n",
              "      <td>2.032484</td>\n",
              "      <td>16.253297</td>\n",
              "      <td>129.292939</td>\n",
              "      <td>0</td>\n",
              "    </tr>\n",
              "    <tr>\n",
              "      <th>2</th>\n",
              "      <td>1.212121</td>\n",
              "      <td>1.957900</td>\n",
              "      <td>309.208465</td>\n",
              "      <td>258.652581</td>\n",
              "      <td>56.0</td>\n",
              "      <td>289.15</td>\n",
              "      <td>256.15</td>\n",
              "      <td>2</td>\n",
              "      <td>-89700</td>\n",
              "      <td>2.032484</td>\n",
              "      <td>14.701465</td>\n",
              "      <td>123.177082</td>\n",
              "      <td>0</td>\n",
              "    </tr>\n",
              "    <tr>\n",
              "      <th>3</th>\n",
              "      <td>1.818182</td>\n",
              "      <td>1.938686</td>\n",
              "      <td>308.298080</td>\n",
              "      <td>260.328167</td>\n",
              "      <td>56.0</td>\n",
              "      <td>289.15</td>\n",
              "      <td>256.15</td>\n",
              "      <td>2</td>\n",
              "      <td>-89700</td>\n",
              "      <td>2.032484</td>\n",
              "      <td>13.347991</td>\n",
              "      <td>117.338962</td>\n",
              "      <td>0</td>\n",
              "    </tr>\n",
              "    <tr>\n",
              "      <th>4</th>\n",
              "      <td>2.424242</td>\n",
              "      <td>1.920547</td>\n",
              "      <td>307.426707</td>\n",
              "      <td>261.910131</td>\n",
              "      <td>56.0</td>\n",
              "      <td>289.15</td>\n",
              "      <td>256.15</td>\n",
              "      <td>2</td>\n",
              "      <td>-89700</td>\n",
              "      <td>2.032484</td>\n",
              "      <td>12.164007</td>\n",
              "      <td>111.769557</td>\n",
              "      <td>0</td>\n",
              "    </tr>\n",
              "    <tr>\n",
              "      <th>...</th>\n",
              "      <td>...</td>\n",
              "      <td>...</td>\n",
              "      <td>...</td>\n",
              "      <td>...</td>\n",
              "      <td>...</td>\n",
              "      <td>...</td>\n",
              "      <td>...</td>\n",
              "      <td>...</td>\n",
              "      <td>...</td>\n",
              "      <td>...</td>\n",
              "      <td>...</td>\n",
              "      <td>...</td>\n",
              "      <td>...</td>\n",
              "    </tr>\n",
              "    <tr>\n",
              "      <th>4665595</th>\n",
              "      <td>57.575758</td>\n",
              "      <td>0.000003</td>\n",
              "      <td>826.348368</td>\n",
              "      <td>640.584410</td>\n",
              "      <td>56.0</td>\n",
              "      <td>289.15</td>\n",
              "      <td>256.15</td>\n",
              "      <td>2</td>\n",
              "      <td>-89700</td>\n",
              "      <td>2.032484</td>\n",
              "      <td>1968.714435</td>\n",
              "      <td>2306.585250</td>\n",
              "      <td>1</td>\n",
              "    </tr>\n",
              "    <tr>\n",
              "      <th>4665596</th>\n",
              "      <td>58.181818</td>\n",
              "      <td>0.000003</td>\n",
              "      <td>826.373689</td>\n",
              "      <td>640.836846</td>\n",
              "      <td>56.0</td>\n",
              "      <td>289.15</td>\n",
              "      <td>256.15</td>\n",
              "      <td>2</td>\n",
              "      <td>-89700</td>\n",
              "      <td>2.032484</td>\n",
              "      <td>1968.714442</td>\n",
              "      <td>2306.493621</td>\n",
              "      <td>1</td>\n",
              "    </tr>\n",
              "    <tr>\n",
              "      <th>4665597</th>\n",
              "      <td>58.787879</td>\n",
              "      <td>0.000003</td>\n",
              "      <td>826.397789</td>\n",
              "      <td>641.077153</td>\n",
              "      <td>56.0</td>\n",
              "      <td>289.15</td>\n",
              "      <td>256.15</td>\n",
              "      <td>2</td>\n",
              "      <td>-89700</td>\n",
              "      <td>2.032484</td>\n",
              "      <td>1968.714452</td>\n",
              "      <td>2306.406366</td>\n",
              "      <td>1</td>\n",
              "    </tr>\n",
              "    <tr>\n",
              "      <th>4665598</th>\n",
              "      <td>59.393939</td>\n",
              "      <td>0.000003</td>\n",
              "      <td>826.420725</td>\n",
              "      <td>641.305916</td>\n",
              "      <td>56.0</td>\n",
              "      <td>289.15</td>\n",
              "      <td>256.15</td>\n",
              "      <td>2</td>\n",
              "      <td>-89700</td>\n",
              "      <td>2.032484</td>\n",
              "      <td>1968.714456</td>\n",
              "      <td>2306.323278</td>\n",
              "      <td>1</td>\n",
              "    </tr>\n",
              "    <tr>\n",
              "      <th>4665599</th>\n",
              "      <td>60.000000</td>\n",
              "      <td>0.000003</td>\n",
              "      <td>826.442555</td>\n",
              "      <td>641.523688</td>\n",
              "      <td>56.0</td>\n",
              "      <td>289.15</td>\n",
              "      <td>256.15</td>\n",
              "      <td>2</td>\n",
              "      <td>-89700</td>\n",
              "      <td>2.032484</td>\n",
              "      <td>1968.714455</td>\n",
              "      <td>2306.244160</td>\n",
              "      <td>1</td>\n",
              "    </tr>\n",
              "  </tbody>\n",
              "</table>\n",
              "<p>4665600 rows × 13 columns</p>\n",
              "</div>"
            ],
            "text/plain": [
              "             Tempo      Conc    T_Reator  ...           Qm           Qr  Labels\n",
              "0         0.000000  2.000000  311.150000  ...    18.037788   135.694981       0\n",
              "1         0.606061  1.978296  310.158835  ...    16.253297   129.292939       0\n",
              "2         1.212121  1.957900  309.208465  ...    14.701465   123.177082       0\n",
              "3         1.818182  1.938686  308.298080  ...    13.347991   117.338962       0\n",
              "4         2.424242  1.920547  307.426707  ...    12.164007   111.769557       0\n",
              "...            ...       ...         ...  ...          ...          ...     ...\n",
              "4665595  57.575758  0.000003  826.348368  ...  1968.714435  2306.585250       1\n",
              "4665596  58.181818  0.000003  826.373689  ...  1968.714442  2306.493621       1\n",
              "4665597  58.787879  0.000003  826.397789  ...  1968.714452  2306.406366       1\n",
              "4665598  59.393939  0.000003  826.420725  ...  1968.714456  2306.323278       1\n",
              "4665599  60.000000  0.000003  826.442555  ...  1968.714455  2306.244160       1\n",
              "\n",
              "[4665600 rows x 13 columns]"
            ]
          },
          "metadata": {
            "tags": []
          },
          "execution_count": 7
        }
      ]
    },
    {
      "cell_type": "markdown",
      "metadata": {
        "id": "9QzaWMgVzOiz"
      },
      "source": [
        "# Dataset_PCA"
      ]
    },
    {
      "cell_type": "code",
      "metadata": {
        "id": "KygvmeFUzWgl"
      },
      "source": [
        "dados_crus = pd.read_csv('/content/drive/MyDrive/PF_Joao_Tupinamba/Teste_GPU/OutPut5Corr.csv',sep = ';', header=0)\n",
        "dados_crus = dados_crus.iloc[:, [1,2,3,4,5,7,8,10,12,19,20,21,-1,-2]]\n",
        "\n",
        "dados_crus.drop(['Semenov','T_Limite'],axis=1)\n",
        "\n",
        "X_reduced = pd.DataFrame(dados_crus)\n",
        "pca = PCA(n_components=5)\n",
        "X_reduced = pd.DataFrame(pca.fit_transform(X_reduced))\n",
        "\n",
        "X_reduced['Labels'] = Labels\n",
        "\n",
        "df_runaway_PCA = X_reduced.query('Labels > 0')\n",
        "\n",
        "\n",
        "test_dataset_runaway_PCA = df_runaway_PCA.sample(n=round(X_reduced.shape[0]*0.01*0.5), random_state=1) #metade do teste feito de operações que geraram runaway\n",
        "\n",
        "NormalOp_PCA = X_reduced.drop(df_runaway_PCA.index) #ou .query\n",
        "\n",
        "test_dataset_NormalOp_PCA = NormalOp_PCA.sample(n=round(X_reduced.shape[0]*0.01*0.5), random_state=1) #outra metade com instâncias comuns de operação\n",
        "\n",
        "Test_dataset_PCA = pd.concat([test_dataset_runaway_PCA,test_dataset_NormalOp_PCA])\n",
        "\n",
        "Train_dataset_PCA = X_reduced.drop(Test_dataset_PCA.index)\n",
        "\n",
        "Test_dataset_PCA_Labels = Test_dataset_PCA.pop('Labels')\n",
        "\n",
        "Train_dataset_PCA_Labels = Train_dataset_PCA.pop('Labels')\n"
      ],
      "execution_count": 6,
      "outputs": []
    },
    {
      "cell_type": "markdown",
      "metadata": {
        "id": "yeyc-sor2sR6"
      },
      "source": [
        "# Cont"
      ]
    },
    {
      "cell_type": "code",
      "metadata": {
        "colab": {
          "base_uri": "https://localhost:8080/"
        },
        "id": "ISlsiTMhgP7r",
        "outputId": "9137770b-d359-4b7d-924b-3da3279883cb"
      },
      "source": [
        "test_dataset_runaway.shape"
      ],
      "execution_count": 9,
      "outputs": [
        {
          "output_type": "execute_result",
          "data": {
            "text/plain": [
              "(23328, 13)"
            ]
          },
          "metadata": {
            "tags": []
          },
          "execution_count": 9
        }
      ]
    },
    {
      "cell_type": "code",
      "metadata": {
        "colab": {
          "base_uri": "https://localhost:8080/"
        },
        "id": "BLQpO2pcmWZA",
        "outputId": "c2ca29d0-cba3-44b6-fc7d-2723c533241f"
      },
      "source": [
        "test_dataset_NormalOp.shape"
      ],
      "execution_count": 10,
      "outputs": [
        {
          "output_type": "execute_result",
          "data": {
            "text/plain": [
              "(23328, 13)"
            ]
          },
          "metadata": {
            "tags": []
          },
          "execution_count": 10
        }
      ]
    },
    {
      "cell_type": "code",
      "metadata": {
        "colab": {
          "base_uri": "https://localhost:8080/"
        },
        "id": "9sZ-v1VLmWLP",
        "outputId": "54ba4a92-7c1d-4fe0-a1bd-ea3f5888cdcd"
      },
      "source": [
        "Test_dataset.shape"
      ],
      "execution_count": 11,
      "outputs": [
        {
          "output_type": "execute_result",
          "data": {
            "text/plain": [
              "(46656, 12)"
            ]
          },
          "metadata": {
            "tags": []
          },
          "execution_count": 11
        }
      ]
    },
    {
      "cell_type": "code",
      "metadata": {
        "colab": {
          "base_uri": "https://localhost:8080/"
        },
        "id": "AO4kpxRL82vN",
        "outputId": "9e024c77-fe25-4823-8cac-75d92795b188"
      },
      "source": [
        "Test_dataset_PCA.shape"
      ],
      "execution_count": 12,
      "outputs": [
        {
          "output_type": "execute_result",
          "data": {
            "text/plain": [
              "(46656, 5)"
            ]
          },
          "metadata": {
            "tags": []
          },
          "execution_count": 12
        }
      ]
    },
    {
      "cell_type": "code",
      "metadata": {
        "colab": {
          "base_uri": "https://localhost:8080/"
        },
        "id": "s1ZYX_YyKoPG",
        "outputId": "e00a9455-3889-4f66-fb85-0a53a67e6452"
      },
      "source": [
        "dados_crus.shape"
      ],
      "execution_count": 15,
      "outputs": [
        {
          "output_type": "execute_result",
          "data": {
            "text/plain": [
              "(4665600, 14)"
            ]
          },
          "metadata": {
            "tags": []
          },
          "execution_count": 15
        }
      ]
    },
    {
      "cell_type": "code",
      "metadata": {
        "colab": {
          "base_uri": "https://localhost:8080/"
        },
        "id": "rFWzS-zPk1BQ",
        "outputId": "cc6c4d8c-d79a-4a1e-988c-b0b7561c64d6"
      },
      "source": [
        "Test_dataset.shape[0]+Train_dataset.shape[0]"
      ],
      "execution_count": 16,
      "outputs": [
        {
          "output_type": "execute_result",
          "data": {
            "text/plain": [
              "4665600"
            ]
          },
          "metadata": {
            "tags": []
          },
          "execution_count": 16
        }
      ]
    },
    {
      "cell_type": "code",
      "metadata": {
        "colab": {
          "base_uri": "https://localhost:8080/"
        },
        "id": "xONzPoBhrFFe",
        "outputId": "a3017721-785a-44a5-927a-b7ed2fe6159d"
      },
      "source": [
        "len(Labels)"
      ],
      "execution_count": 17,
      "outputs": [
        {
          "output_type": "execute_result",
          "data": {
            "text/plain": [
              "4665600"
            ]
          },
          "metadata": {
            "tags": []
          },
          "execution_count": 17
        }
      ]
    },
    {
      "cell_type": "markdown",
      "metadata": {
        "id": "4oNsZ4OoBNt_"
      },
      "source": [
        "## Um treino qualquer"
      ]
    },
    {
      "cell_type": "code",
      "metadata": {
        "id": "9Oe9pkx0jx84"
      },
      "source": [
        "model=keras.Sequential()\n",
        "\n",
        "model.add(keras.layers.Dense(64,input_shape=[12],\n",
        "                             bias_regularizer=regularizers.l1(1e-3),\n",
        "                             activation = 'LeakyReLU'))\n",
        "model.add(keras.layers.BatchNormalization())\n",
        "\n",
        "model.add(keras.layers.Dense(32,activation = 'LeakyReLU'))\n",
        "\n",
        "model.add(keras.layers.Dense(16,bias_regularizer=regularizers.l1(1e-3),\n",
        "                             activation = 'LeakyReLU'))\n",
        "model.add(keras.layers.BatchNormalization())\n",
        "\n",
        "model.add(keras.layers.Dense(16,activation = 'LeakyReLU'))\n",
        "\n",
        "model.add(keras.layers.Dense(32,bias_regularizer=regularizers.l1(1e-3),\n",
        "                             activation = 'LeakyReLU'))\n",
        "model.add(keras.layers.BatchNormalization())\n",
        "\n",
        "model.add(keras.layers.Dense(16,activation = 'LeakyReLU'))\n",
        "\n",
        "\n",
        "\n",
        "model.add(keras.layers.Dense(1, activation='sigmoid'))\n",
        "\n",
        "  \n"
      ],
      "execution_count": null,
      "outputs": []
    },
    {
      "cell_type": "code",
      "metadata": {
        "colab": {
          "base_uri": "https://localhost:8080/"
        },
        "id": "ZMcSueM5jlbu",
        "outputId": "309fa9d2-c2a4-46e7-86a4-de26c50a9333"
      },
      "source": [
        "model.summary()"
      ],
      "execution_count": null,
      "outputs": [
        {
          "output_type": "stream",
          "text": [
            "Model: \"sequential\"\n",
            "_________________________________________________________________\n",
            "Layer (type)                 Output Shape              Param #   \n",
            "=================================================================\n",
            "dense (Dense)                (None, 64)                832       \n",
            "_________________________________________________________________\n",
            "batch_normalization (BatchNo (None, 64)                256       \n",
            "_________________________________________________________________\n",
            "dense_1 (Dense)              (None, 32)                2080      \n",
            "_________________________________________________________________\n",
            "dense_2 (Dense)              (None, 16)                528       \n",
            "_________________________________________________________________\n",
            "batch_normalization_1 (Batch (None, 16)                64        \n",
            "_________________________________________________________________\n",
            "dense_3 (Dense)              (None, 16)                272       \n",
            "_________________________________________________________________\n",
            "dense_4 (Dense)              (None, 32)                544       \n",
            "_________________________________________________________________\n",
            "batch_normalization_2 (Batch (None, 32)                128       \n",
            "_________________________________________________________________\n",
            "dense_5 (Dense)              (None, 16)                528       \n",
            "_________________________________________________________________\n",
            "dense_6 (Dense)              (None, 1)                 17        \n",
            "=================================================================\n",
            "Total params: 5,249\n",
            "Trainable params: 5,025\n",
            "Non-trainable params: 224\n",
            "_________________________________________________________________\n"
          ],
          "name": "stdout"
        }
      ]
    },
    {
      "cell_type": "code",
      "metadata": {
        "id": "2sdC4PHlFw-s"
      },
      "source": [
        "model.compile(optimizer=keras.optimizers.Adam(learning_rate=1e-6),loss='binary_crossentropy',metrics=['mae','mse','accuracy'])"
      ],
      "execution_count": null,
      "outputs": []
    },
    {
      "cell_type": "code",
      "metadata": {
        "id": "ydqNCmyoHGhe"
      },
      "source": [
        "history = model.fit(x=Train_dataset,y=Train_dataset_Labels,validation_data = (Test_dataset,Test_dataset_Labels)\n",
        "                    ,validation_steps = len(Test_dataset)/400 ,epochs = 20 ,batch_size=400,verbose=1\n",
        "                    )"
      ],
      "execution_count": null,
      "outputs": []
    },
    {
      "cell_type": "code",
      "metadata": {
        "id": "a5Xn2nT8HyyT"
      },
      "source": [
        "for i in ['loss', 'mae', 'mse', 'accuracy']:\n",
        "  plt.plot(history.history[i])\n",
        "plt.title('model loss')\n",
        "plt.ylabel('loss')\n",
        "plt.xlabel('epoch')\n",
        "plt.legend(['train', 'test'], loc='upper left')\n",
        "plt.show()"
      ],
      "execution_count": null,
      "outputs": []
    },
    {
      "cell_type": "code",
      "metadata": {
        "colab": {
          "base_uri": "https://localhost:8080/",
          "height": 295
        },
        "id": "WmpXXkzkWbJ6",
        "outputId": "3b1c1b23-a6e6-4b07-ed0b-de56caf26b0b"
      },
      "source": [
        "plt.plot(history.history['accuracy'])\n",
        "plt.plot(history.history['val_mse'])\n",
        "plt.title('Root Mean Squared Error')\n",
        "plt.ylabel('mse')\n",
        "plt.xlabel('epoch')\n",
        "plt.legend(['train', 'test'], loc='upper left')\n",
        "plt.show()"
      ],
      "execution_count": null,
      "outputs": [
        {
          "output_type": "display_data",
          "data": {
            "image/png": "[encoded data removed]",
            "text/plain": [
              "<Figure size 432x288 with 1 Axes>"
            ]
          },
          "metadata": {
            "tags": []
          }
        }
      ]
    },
    {
      "cell_type": "markdown",
      "metadata": {
        "id": "dpDVYL__BcfR"
      },
      "source": [
        "## Keras Tuner"
      ]
    },
    {
      "cell_type": "code",
      "metadata": {
        "id": "fjPHY8vRnXq5"
      },
      "source": [
        "def build_model(hp):\n",
        "  model = keras.Sequential()\n",
        "\n",
        "  model.add(keras.layers.Dense(\n",
        "        hp.Choice('unitsPre1', [32, 64,128]),\n",
        "        bias_regularizer=regularizers.l1(1e-4),\n",
        "        activation='LeakyReLU'))\n",
        "  \n",
        "  model.add(keras.layers.Dense(\n",
        "      hp.Choice('unitsPre2', [32, 64,128]),\n",
        "      bias_regularizer=regularizers.l1(1e-4),\n",
        "      activation='LeakyReLU'))\n",
        "  \n",
        "  for i in range(hp.Int('num_layers',4,8)):\n",
        "    if i % 2 == 0:\n",
        "      model.add(keras.layers.Dense(\n",
        "        hp.Choice('units' + str(i), [16, 32, 64]),\n",
        "        bias_regularizer=regularizers.l1(1e-4),\n",
        "        activation='LeakyReLU'))\n",
        "      model.add(keras.layers.BatchNormalization())\n",
        "    else:\n",
        "      model.add(keras.layers.Dense(\n",
        "          hp.Choice('units' + str(i), [16, 32]),\n",
        "          activation='LeakyReLU'))\n",
        "      \n",
        "  \n",
        "  model.add(keras.layers.Dense(1, activation='sigmoid'))\n",
        "\n",
        "  \n",
        "  model.compile(optimizer=keras.optimizers.Adam(hp.Choice('learning_rate',[1e-5,1e-6])),loss='binary_crossentropy',metrics=['mae','mse','accuracy'])\n",
        "  #model.compile(optimizer=tf.keras.optimizers.Adagrad(learning_rate=0.001\n",
        "   #                                                   ,initial_accumulator_value=0.1,epsilon=1e-07,name=\"Adagrad\"),loss='binary_crossentropy',metrics=['mae','mse','accuracy'])\n",
        "  \n",
        "  return model"
      ],
      "execution_count": 7,
      "outputs": []
    },
    {
      "cell_type": "code",
      "metadata": {
        "colab": {
          "base_uri": "https://localhost:8080/"
        },
        "id": "MIcFWvvPDB8s",
        "outputId": "282a10d3-b615-4dc1-c91b-4e0db05aabc3"
      },
      "source": [
        "tuner = kt.Hyperband(build_model,\n",
        "                     objective=kt.Objective(\"val_accuracy\", direction=\"max\"),\n",
        "                     max_epochs=8,\n",
        "                     factor=6,\n",
        "                     directory='/content/drive/MyDrive/PF_Joao_Tupinamba/Teste GPU/',\n",
        "                     project_name='Reactor_NN_Tuner_Hyperband+2',\n",
        "                     overwrite=False)\n",
        "#tuner.search(Train_dataset_PCA, Train_dataset_PCA_Labels,\n",
        "#             validation_data=(Test_dataset_PCA, Test_dataset_PCA_Labels),\n",
        "#             validation_steps = len(Test_dataset)/400 ,batch_size=400)\n",
        "#tuner.get_best_models()"
      ],
      "execution_count": 8,
      "outputs": [
        {
          "output_type": "stream",
          "text": [
            "INFO:tensorflow:Reloading Oracle from existing project /content/drive/MyDrive/PF_Joao_Tupinamba/Teste GPU/Reactor_NN_Tuner_Hyperband+2/oracle.json\n",
            "INFO:tensorflow:Reloading Tuner from /content/drive/MyDrive/PF_Joao_Tupinamba/Teste GPU/Reactor_NN_Tuner_Hyperband+2/tuner0.json\n"
          ],
          "name": "stdout"
        }
      ]
    },
    {
      "cell_type": "code",
      "metadata": {
        "colab": {
          "base_uri": "https://localhost:8080/"
        },
        "id": "dxPwsyI1oD8_",
        "outputId": "9ae35919-905c-460b-abd5-47c6297f8f3c"
      },
      "source": [
        "tuner = kt.RandomSearch(\n",
        "    build_model,\n",
        "    objective=kt.Objective(\"val_accuracy\", direction=\"max\"),\n",
        "    executions_per_trial=1,\n",
        "    max_trials=40,\n",
        "    directory ='/content/drive/MyDrive/PF_Joao_Tupinamba/Teste GPU/',\n",
        "    project_name='Reactor_NN_Tuner2',\n",
        "    overwrite = True)\n",
        "\n",
        "#tuner.search(Train_dataset_PCA, Train_Labels, \n",
        "#             epochs=5, validation_data=(Test_dataset_PCA, Test_Labels),\n",
        "#             validation_steps = len(Test_dataset)/400 ,batch_size=400)\n"
      ],
      "execution_count": null,
      "outputs": [
        {
          "output_type": "execute_result",
          "data": {
            "text/plain": [
              "[]"
            ]
          },
          "metadata": {
            "tags": []
          },
          "execution_count": 14
        }
      ]
    },
    {
      "cell_type": "code",
      "metadata": {
        "id": "IxPHt3ezzvAw",
        "colab": {
          "base_uri": "https://localhost:8080/"
        },
        "outputId": "b314cf0c-a5fb-49bb-df78-ad00ac811521"
      },
      "source": [
        "tuner.results_summary()"
      ],
      "execution_count": 27,
      "outputs": [
        {
          "output_type": "stream",
          "text": [
            "Results summary\n",
            "Results in /content/drive/MyDrive/PF_Joao_Tupinamba/Teste GPU/Reactor_NN_Tuner_Hyperband+2\n",
            "Showing 10 best trials\n",
            "Objective(name='val_accuracy', direction='max')\n",
            "Trial summary\n",
            "Hyperparameters:\n",
            "unitsPre1: 32\n",
            "unitsPre2: 64\n",
            "num_layers: 7\n",
            "units0: 16\n",
            "units1: 32\n",
            "units2: 16\n",
            "units3: 16\n",
            "learning_rate: 1e-05\n",
            "units4: 16\n",
            "units5: 32\n",
            "units6: 16\n",
            "units7: 16\n",
            "tuner/epochs: 8\n",
            "tuner/initial_epoch: 2\n",
            "tuner/bracket: 1\n",
            "tuner/round: 1\n",
            "tuner/trial_id: d816f1bbcd21a1c8c83d7ecfbca6dbd1\n",
            "Score: 0.925947368144989\n",
            "Trial summary\n",
            "Hyperparameters:\n",
            "unitsPre1: 32\n",
            "unitsPre2: 128\n",
            "num_layers: 8\n",
            "units0: 16\n",
            "units1: 16\n",
            "units2: 16\n",
            "units3: 32\n",
            "learning_rate: 1e-05\n",
            "units4: 16\n",
            "units5: 16\n",
            "units6: 64\n",
            "tuner/epochs: 8\n",
            "tuner/initial_epoch: 2\n",
            "tuner/bracket: 1\n",
            "tuner/round: 1\n",
            "units7: 16\n",
            "tuner/trial_id: 43ce4b75b2ce6b3af57c3b9dc59d6b05\n",
            "Score: 0.9250471591949463\n",
            "Trial summary\n",
            "Hyperparameters:\n",
            "unitsPre1: 64\n",
            "unitsPre2: 128\n",
            "num_layers: 5\n",
            "units0: 16\n",
            "units1: 16\n",
            "units2: 32\n",
            "units3: 32\n",
            "learning_rate: 1e-05\n",
            "units4: 32\n",
            "units5: 16\n",
            "units6: 64\n",
            "units7: 32\n",
            "tuner/epochs: 8\n",
            "tuner/initial_epoch: 0\n",
            "tuner/bracket: 0\n",
            "tuner/round: 0\n",
            "Score: 0.9242755770683289\n",
            "Trial summary\n",
            "Hyperparameters:\n",
            "unitsPre1: 32\n",
            "unitsPre2: 128\n",
            "num_layers: 8\n",
            "units0: 16\n",
            "units1: 16\n",
            "units2: 16\n",
            "units3: 32\n",
            "learning_rate: 1e-05\n",
            "units4: 16\n",
            "units5: 16\n",
            "units6: 64\n",
            "tuner/epochs: 2\n",
            "tuner/initial_epoch: 0\n",
            "tuner/bracket: 1\n",
            "tuner/round: 0\n",
            "units7: 16\n",
            "Score: 0.9203317761421204\n",
            "Trial summary\n",
            "Hyperparameters:\n",
            "unitsPre1: 32\n",
            "unitsPre2: 64\n",
            "num_layers: 7\n",
            "units0: 16\n",
            "units1: 32\n",
            "units2: 16\n",
            "units3: 16\n",
            "learning_rate: 1e-05\n",
            "units4: 16\n",
            "units5: 32\n",
            "units6: 16\n",
            "units7: 16\n",
            "tuner/epochs: 2\n",
            "tuner/initial_epoch: 0\n",
            "tuner/bracket: 1\n",
            "tuner/round: 0\n",
            "Score: 0.9166666865348816\n",
            "Trial summary\n",
            "Hyperparameters:\n",
            "unitsPre1: 128\n",
            "unitsPre2: 64\n",
            "num_layers: 6\n",
            "units0: 32\n",
            "units1: 32\n",
            "units2: 64\n",
            "units3: 16\n",
            "learning_rate: 1e-05\n",
            "units4: 64\n",
            "units5: 32\n",
            "units6: 16\n",
            "tuner/epochs: 2\n",
            "tuner/initial_epoch: 0\n",
            "tuner/bracket: 1\n",
            "tuner/round: 0\n",
            "Score: 0.9157878756523132\n",
            "Trial summary\n",
            "Hyperparameters:\n",
            "unitsPre1: 128\n",
            "unitsPre2: 128\n",
            "num_layers: 5\n",
            "units0: 16\n",
            "units1: 32\n",
            "units2: 16\n",
            "units3: 16\n",
            "learning_rate: 1e-05\n",
            "units4: 64\n",
            "units5: 16\n",
            "units6: 64\n",
            "units7: 16\n",
            "tuner/epochs: 8\n",
            "tuner/initial_epoch: 0\n",
            "tuner/bracket: 0\n",
            "tuner/round: 0\n",
            "Score: 0.889146089553833\n",
            "Trial summary\n",
            "Hyperparameters:\n",
            "unitsPre1: 128\n",
            "unitsPre2: 64\n",
            "num_layers: 5\n",
            "units0: 32\n",
            "units1: 32\n",
            "units2: 32\n",
            "units3: 16\n",
            "learning_rate: 1e-05\n",
            "units4: 32\n",
            "units5: 16\n",
            "units6: 64\n",
            "units7: 16\n",
            "tuner/epochs: 2\n",
            "tuner/initial_epoch: 0\n",
            "tuner/bracket: 1\n",
            "tuner/round: 0\n",
            "Score: 0.8864883184432983\n",
            "Trial summary\n",
            "Hyperparameters:\n",
            "unitsPre1: 128\n",
            "unitsPre2: 128\n",
            "num_layers: 7\n",
            "units0: 32\n",
            "units1: 32\n",
            "units2: 64\n",
            "units3: 16\n",
            "learning_rate: 1e-06\n",
            "units4: 64\n",
            "units5: 16\n",
            "units6: 64\n",
            "units7: 32\n",
            "tuner/epochs: 8\n",
            "tuner/initial_epoch: 0\n",
            "tuner/bracket: 0\n",
            "tuner/round: 0\n",
            "Score: 0.8834447860717773\n",
            "Trial summary\n",
            "Hyperparameters:\n",
            "unitsPre1: 32\n",
            "unitsPre2: 64\n",
            "num_layers: 7\n",
            "units0: 16\n",
            "units1: 16\n",
            "units2: 16\n",
            "units3: 16\n",
            "learning_rate: 1e-06\n",
            "tuner/epochs: 2\n",
            "tuner/initial_epoch: 0\n",
            "tuner/bracket: 1\n",
            "tuner/round: 0\n",
            "units4: 16\n",
            "units5: 16\n",
            "units6: 16\n",
            "Score: 0.8763502836227417\n"
          ],
          "name": "stdout"
        }
      ]
    },
    {
      "cell_type": "code",
      "metadata": {
        "id": "HtJajsmBs8n0"
      },
      "source": [
        "best_hps=tuner.get_best_hyperparameters(num_trials=20)[3]\n",
        "model = tuner.hypermodel.build(best_hps)\n",
        "model.build((Train_dataset_PCA.shape[0],5))\n"
      ],
      "execution_count": 9,
      "outputs": []
    },
    {
      "cell_type": "code",
      "metadata": {
        "colab": {
          "base_uri": "https://localhost:8080/"
        },
        "id": "jUBMtmcahvEN",
        "outputId": "66ef0d49-e6c0-477b-d7db-a25c6ebcaf23"
      },
      "source": [
        "model.summary()"
      ],
      "execution_count": 47,
      "outputs": [
        {
          "output_type": "stream",
          "text": [
            "Model: \"sequential\"\n",
            "_________________________________________________________________\n",
            "Layer (type)                 Output Shape              Param #   \n",
            "=================================================================\n",
            "dense (Dense)                (4618944, 32)             192       \n",
            "_________________________________________________________________\n",
            "dense_1 (Dense)              (4618944, 64)             2112      \n",
            "_________________________________________________________________\n",
            "dense_2 (Dense)              (4618944, 16)             1040      \n",
            "_________________________________________________________________\n",
            "batch_normalization (BatchNo (4618944, 16)             64        \n",
            "_________________________________________________________________\n",
            "dense_3 (Dense)              (4618944, 32)             544       \n",
            "_________________________________________________________________\n",
            "dense_4 (Dense)              (4618944, 16)             528       \n",
            "_________________________________________________________________\n",
            "batch_normalization_1 (Batch (4618944, 16)             64        \n",
            "_________________________________________________________________\n",
            "dense_5 (Dense)              (4618944, 16)             272       \n",
            "_________________________________________________________________\n",
            "dense_6 (Dense)              (4618944, 16)             272       \n",
            "_________________________________________________________________\n",
            "batch_normalization_2 (Batch (4618944, 16)             64        \n",
            "_________________________________________________________________\n",
            "dense_7 (Dense)              (4618944, 32)             544       \n",
            "_________________________________________________________________\n",
            "dense_8 (Dense)              (4618944, 16)             528       \n",
            "_________________________________________________________________\n",
            "batch_normalization_3 (Batch (4618944, 16)             64        \n",
            "_________________________________________________________________\n",
            "dense_9 (Dense)              (4618944, 1)              17        \n",
            "=================================================================\n",
            "Total params: 6,305\n",
            "Trainable params: 6,177\n",
            "Non-trainable params: 128\n",
            "_________________________________________________________________\n"
          ],
          "name": "stdout"
        }
      ]
    },
    {
      "cell_type": "code",
      "metadata": {
        "colab": {
          "base_uri": "https://localhost:8080/"
        },
        "id": "IJ4dHx336Uno",
        "outputId": "1785c22f-531e-4e71-8ba7-7f687d62ba96"
      },
      "source": [
        "history = model.fit(x=Train_dataset_PCA,y=Train_dataset_PCA_Labels,validation_data = (Test_dataset_PCA,Test_dataset_PCA_Labels)\n",
        "                    ,validation_steps = len(Test_dataset)/400 ,epochs = 8 ,batch_size=400,verbose=1\n",
        "                    )"
      ],
      "execution_count": 10,
      "outputs": [
        {
          "output_type": "stream",
          "text": [
            "Epoch 1/8\n",
            "11548/11548 [==============================] - 55s 5ms/step - loss: 0.1690 - mae: 0.1111 - mse: 0.0507 - accuracy: 0.9313 - val_loss: 0.3553 - val_mae: 0.2331 - val_mse: 0.1248 - val_accuracy: 0.7893\n",
            "Epoch 2/8\n",
            "11548/11548 [==============================] - 53s 5ms/step - loss: 0.1334 - mae: 0.0852 - mse: 0.0422 - accuracy: 0.9384 - val_loss: 0.2253 - val_mae: 0.1550 - val_mse: 0.0742 - val_accuracy: 0.8879\n",
            "Epoch 3/8\n",
            "11548/11548 [==============================] - 52s 5ms/step - loss: 0.1269 - mae: 0.0813 - mse: 0.0404 - accuracy: 0.9408 - val_loss: 0.2387 - val_mae: 0.1625 - val_mse: 0.0803 - val_accuracy: 0.8723\n",
            "Epoch 4/8\n",
            "11548/11548 [==============================] - 58s 5ms/step - loss: 0.1229 - mae: 0.0790 - mse: 0.0393 - accuracy: 0.9423 - val_loss: 0.4190 - val_mae: 0.2541 - val_mse: 0.1539 - val_accuracy: 0.7369\n",
            "Epoch 5/8\n",
            "11548/11548 [==============================] - 57s 5ms/step - loss: 0.1203 - mae: 0.0774 - mse: 0.0386 - accuracy: 0.9433 - val_loss: 0.2504 - val_mae: 0.1677 - val_mse: 0.0845 - val_accuracy: 0.8658\n",
            "Epoch 6/8\n",
            "11548/11548 [==============================] - 57s 5ms/step - loss: 0.1183 - mae: 0.0762 - mse: 0.0380 - accuracy: 0.9442 - val_loss: 0.1559 - val_mae: 0.1066 - val_mse: 0.0507 - val_accuracy: 0.9250\n",
            "Epoch 7/8\n",
            "11548/11548 [==============================] - 57s 5ms/step - loss: 0.1168 - mae: 0.0752 - mse: 0.0375 - accuracy: 0.9448 - val_loss: 0.1584 - val_mae: 0.1073 - val_mse: 0.0515 - val_accuracy: 0.9242\n",
            "Epoch 8/8\n",
            "11548/11548 [==============================] - 55s 5ms/step - loss: 0.1153 - mae: 0.0744 - mse: 0.0371 - accuracy: 0.9453 - val_loss: 0.1611 - val_mae: 0.1054 - val_mse: 0.0523 - val_accuracy: 0.9240\n"
          ],
          "name": "stdout"
        }
      ]
    },
    {
      "cell_type": "markdown",
      "metadata": {
        "id": "QzKE7aRACNKS"
      },
      "source": [
        "## Confusion matrix"
      ]
    },
    {
      "cell_type": "code",
      "metadata": {
        "id": "HHePGo8MB7iV"
      },
      "source": [
        "def plot_confusion_matrix(cm, classes,\n",
        "                        normalize=False,\n",
        "                        title='Confusion matrix',\n",
        "                        cmap=plt.cm.Blues):\n",
        "    \"\"\"\n",
        "    This function prints and plots the confusion matrix.\n",
        "    Normalization can be applied by setting `normalize=True`.\n",
        "    \"\"\"\n",
        "    plt.figure(figsize=(16, 12))\n",
        "    plt.imshow(cm, interpolation='nearest', cmap=cmap)\n",
        "    plt.title(title)\n",
        "    plt.colorbar()\n",
        "    tick_marks = np.arange(len(classes))\n",
        "    plt.xticks(tick_marks, classes, rotation=45)\n",
        "    plt.yticks(tick_marks, classes)\n",
        "    if normalize:\n",
        "        cm = cm.astype('float') / cm.sum(axis=1)[:, np.newaxis]\n",
        "        print(\"Normalized confusion matrix\")\n",
        "    else:\n",
        "        print('Confusion matrix, without normalization')\n",
        "\n",
        "    print(cm)\n",
        "\n",
        "    thresh = cm.max() / 2.\n",
        "    for i, j in itertools.product(range(cm.shape[0]), range(cm.shape[1])):\n",
        "        plt.text(j, i, cm[i, j],\n",
        "            horizontalalignment=\"center\",\n",
        "            color=\"white\" if cm[i, j] > thresh else \"black\")\n",
        "\n",
        "    plt.tight_layout()\n",
        "    plt.ylabel('True label')\n",
        "    plt.xlabel('Predicted label')"
      ],
      "execution_count": 16,
      "outputs": []
    },
    {
      "cell_type": "code",
      "metadata": {
        "colab": {
          "base_uri": "https://localhost:8080/",
          "height": 937
        },
        "id": "Mx8ffn63xZEK",
        "outputId": "df5b0b6a-d564-4806-8100-1e61f2f9afa6"
      },
      "source": [
        "predictions = model.predict(\n",
        "      x=Test_dataset_PCA\n",
        "    , batch_size=400\n",
        "    , verbose=0\n",
        ")  \n",
        "\n",
        "rounded_predictions = np.argmax(predictions, axis=-1)\n",
        "\n",
        "cm = confusion_matrix(y_true=Test_dataset_PCA_Labels, y_pred=predictions.round())\n",
        "cm_plot_labels = ['no_Runaway','Runaway']\n",
        "plot_confusion_matrix(cm=cm, classes=cm_plot_labels, title='Confusion Matrix')\n"
      ],
      "execution_count": 17,
      "outputs": [
        {
          "output_type": "stream",
          "text": [
            "Confusion matrix, without normalization\n",
            "[[22117  1211]\n",
            " [ 2334 20994]]\n"
          ],
          "name": "stdout"
        },
        {
          "output_type": "display_data",
          "data": {
            "image/png": "[encoded data removed]",
            "text/plain": [
              "<Figure size 1152x864 with 2 Axes>"
            ]
          },
          "metadata": {
            "tags": [],
            "needs_background": "light"
          }
        }
      ]
    },
    {
      "cell_type": "code",
      "metadata": {
        "id": "uQufbLQHECzr",
        "colab": {
          "base_uri": "https://localhost:8080/"
        },
        "outputId": "d9a82f5a-5137-4ab5-8f42-b3ece9191559"
      },
      "source": [
        "predictions.round()"
      ],
      "execution_count": 13,
      "outputs": [
        {
          "output_type": "execute_result",
          "data": {
            "text/plain": [
              "array([[1.],\n",
              "       [1.],\n",
              "       [1.],\n",
              "       ...,\n",
              "       [0.],\n",
              "       [0.],\n",
              "       [1.]], dtype=float32)"
            ]
          },
          "metadata": {
            "tags": []
          },
          "execution_count": 13
        }
      ]
    },
    {
      "cell_type": "code",
      "metadata": {
        "id": "vbeBZHXT0QKO"
      },
      "source": [
        ""
      ],
      "execution_count": 45,
      "outputs": []
    }
  ]
}